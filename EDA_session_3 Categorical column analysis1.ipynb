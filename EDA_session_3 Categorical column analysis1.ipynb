{
 "cells": [
  {
   "cell_type": "code",
   "execution_count": null,
   "id": "dee36bae-b204-4233-aebb-6ef5ab3c5d4f",
   "metadata": {},
   "outputs": [],
   "source": [
    "######################## 29-08-2024 ##############################"
   ]
  },
  {
   "cell_type": "code",
   "execution_count": null,
   "id": "3f73aa99-5549-4441-ba7b-1fae7aa2d5bb",
   "metadata": {},
   "outputs": [],
   "source": [
    "# import the packages \n",
    "#read the data\n",
    "#convert categorical and numerical columns using select datatypes"
   ]
  },
  {
   "cell_type": "code",
   "execution_count": 2,
   "id": "a90910f0-0be0-433a-a62d-fe6be9d67ef2",
   "metadata": {},
   "outputs": [
    {
     "data": {
      "text/html": [
       "<div>\n",
       "<style scoped>\n",
       "    .dataframe tbody tr th:only-of-type {\n",
       "        vertical-align: middle;\n",
       "    }\n",
       "\n",
       "    .dataframe tbody tr th {\n",
       "        vertical-align: top;\n",
       "    }\n",
       "\n",
       "    .dataframe thead th {\n",
       "        text-align: right;\n",
       "    }\n",
       "</style>\n",
       "<table border=\"1\" class=\"dataframe\">\n",
       "  <thead>\n",
       "    <tr style=\"text-align: right;\">\n",
       "      <th></th>\n",
       "      <th>case_id</th>\n",
       "      <th>continent</th>\n",
       "      <th>education_of_employee</th>\n",
       "      <th>has_job_experience</th>\n",
       "      <th>requires_job_training</th>\n",
       "      <th>no_of_employees</th>\n",
       "      <th>yr_of_estab</th>\n",
       "      <th>region_of_employment</th>\n",
       "      <th>prevailing_wage</th>\n",
       "      <th>unit_of_wage</th>\n",
       "      <th>full_time_position</th>\n",
       "      <th>case_status</th>\n",
       "    </tr>\n",
       "  </thead>\n",
       "  <tbody>\n",
       "    <tr>\n",
       "      <th>0</th>\n",
       "      <td>EZYV01</td>\n",
       "      <td>Asia</td>\n",
       "      <td>High School</td>\n",
       "      <td>N</td>\n",
       "      <td>N</td>\n",
       "      <td>14513</td>\n",
       "      <td>2007</td>\n",
       "      <td>West</td>\n",
       "      <td>592.2029</td>\n",
       "      <td>Hour</td>\n",
       "      <td>Y</td>\n",
       "      <td>Denied</td>\n",
       "    </tr>\n",
       "    <tr>\n",
       "      <th>1</th>\n",
       "      <td>EZYV02</td>\n",
       "      <td>Asia</td>\n",
       "      <td>Master's</td>\n",
       "      <td>Y</td>\n",
       "      <td>N</td>\n",
       "      <td>2412</td>\n",
       "      <td>2002</td>\n",
       "      <td>Northeast</td>\n",
       "      <td>83425.6500</td>\n",
       "      <td>Year</td>\n",
       "      <td>Y</td>\n",
       "      <td>Certified</td>\n",
       "    </tr>\n",
       "    <tr>\n",
       "      <th>2</th>\n",
       "      <td>EZYV03</td>\n",
       "      <td>Asia</td>\n",
       "      <td>Bachelor's</td>\n",
       "      <td>N</td>\n",
       "      <td>Y</td>\n",
       "      <td>44444</td>\n",
       "      <td>2008</td>\n",
       "      <td>West</td>\n",
       "      <td>122996.8600</td>\n",
       "      <td>Year</td>\n",
       "      <td>Y</td>\n",
       "      <td>Denied</td>\n",
       "    </tr>\n",
       "    <tr>\n",
       "      <th>3</th>\n",
       "      <td>EZYV04</td>\n",
       "      <td>Asia</td>\n",
       "      <td>Bachelor's</td>\n",
       "      <td>N</td>\n",
       "      <td>N</td>\n",
       "      <td>98</td>\n",
       "      <td>1897</td>\n",
       "      <td>West</td>\n",
       "      <td>83434.0300</td>\n",
       "      <td>Year</td>\n",
       "      <td>Y</td>\n",
       "      <td>Denied</td>\n",
       "    </tr>\n",
       "    <tr>\n",
       "      <th>4</th>\n",
       "      <td>EZYV05</td>\n",
       "      <td>Africa</td>\n",
       "      <td>Master's</td>\n",
       "      <td>Y</td>\n",
       "      <td>N</td>\n",
       "      <td>1082</td>\n",
       "      <td>2005</td>\n",
       "      <td>South</td>\n",
       "      <td>149907.3900</td>\n",
       "      <td>Year</td>\n",
       "      <td>Y</td>\n",
       "      <td>Certified</td>\n",
       "    </tr>\n",
       "    <tr>\n",
       "      <th>...</th>\n",
       "      <td>...</td>\n",
       "      <td>...</td>\n",
       "      <td>...</td>\n",
       "      <td>...</td>\n",
       "      <td>...</td>\n",
       "      <td>...</td>\n",
       "      <td>...</td>\n",
       "      <td>...</td>\n",
       "      <td>...</td>\n",
       "      <td>...</td>\n",
       "      <td>...</td>\n",
       "      <td>...</td>\n",
       "    </tr>\n",
       "    <tr>\n",
       "      <th>25475</th>\n",
       "      <td>EZYV25476</td>\n",
       "      <td>Asia</td>\n",
       "      <td>Bachelor's</td>\n",
       "      <td>Y</td>\n",
       "      <td>Y</td>\n",
       "      <td>2601</td>\n",
       "      <td>2008</td>\n",
       "      <td>South</td>\n",
       "      <td>77092.5700</td>\n",
       "      <td>Year</td>\n",
       "      <td>Y</td>\n",
       "      <td>Certified</td>\n",
       "    </tr>\n",
       "    <tr>\n",
       "      <th>25476</th>\n",
       "      <td>EZYV25477</td>\n",
       "      <td>Asia</td>\n",
       "      <td>High School</td>\n",
       "      <td>Y</td>\n",
       "      <td>N</td>\n",
       "      <td>3274</td>\n",
       "      <td>2006</td>\n",
       "      <td>Northeast</td>\n",
       "      <td>279174.7900</td>\n",
       "      <td>Year</td>\n",
       "      <td>Y</td>\n",
       "      <td>Certified</td>\n",
       "    </tr>\n",
       "    <tr>\n",
       "      <th>25477</th>\n",
       "      <td>EZYV25478</td>\n",
       "      <td>Asia</td>\n",
       "      <td>Master's</td>\n",
       "      <td>Y</td>\n",
       "      <td>N</td>\n",
       "      <td>1121</td>\n",
       "      <td>1910</td>\n",
       "      <td>South</td>\n",
       "      <td>146298.8500</td>\n",
       "      <td>Year</td>\n",
       "      <td>N</td>\n",
       "      <td>Certified</td>\n",
       "    </tr>\n",
       "    <tr>\n",
       "      <th>25478</th>\n",
       "      <td>EZYV25479</td>\n",
       "      <td>Asia</td>\n",
       "      <td>Master's</td>\n",
       "      <td>Y</td>\n",
       "      <td>Y</td>\n",
       "      <td>1918</td>\n",
       "      <td>1887</td>\n",
       "      <td>West</td>\n",
       "      <td>86154.7700</td>\n",
       "      <td>Year</td>\n",
       "      <td>Y</td>\n",
       "      <td>Certified</td>\n",
       "    </tr>\n",
       "    <tr>\n",
       "      <th>25479</th>\n",
       "      <td>EZYV25480</td>\n",
       "      <td>Asia</td>\n",
       "      <td>Bachelor's</td>\n",
       "      <td>Y</td>\n",
       "      <td>N</td>\n",
       "      <td>3195</td>\n",
       "      <td>1960</td>\n",
       "      <td>Midwest</td>\n",
       "      <td>70876.9100</td>\n",
       "      <td>Year</td>\n",
       "      <td>Y</td>\n",
       "      <td>Certified</td>\n",
       "    </tr>\n",
       "  </tbody>\n",
       "</table>\n",
       "<p>25480 rows × 12 columns</p>\n",
       "</div>"
      ],
      "text/plain": [
       "         case_id continent education_of_employee has_job_experience  \\\n",
       "0         EZYV01      Asia           High School                  N   \n",
       "1         EZYV02      Asia              Master's                  Y   \n",
       "2         EZYV03      Asia            Bachelor's                  N   \n",
       "3         EZYV04      Asia            Bachelor's                  N   \n",
       "4         EZYV05    Africa              Master's                  Y   \n",
       "...          ...       ...                   ...                ...   \n",
       "25475  EZYV25476      Asia            Bachelor's                  Y   \n",
       "25476  EZYV25477      Asia           High School                  Y   \n",
       "25477  EZYV25478      Asia              Master's                  Y   \n",
       "25478  EZYV25479      Asia              Master's                  Y   \n",
       "25479  EZYV25480      Asia            Bachelor's                  Y   \n",
       "\n",
       "      requires_job_training  no_of_employees  yr_of_estab  \\\n",
       "0                         N            14513         2007   \n",
       "1                         N             2412         2002   \n",
       "2                         Y            44444         2008   \n",
       "3                         N               98         1897   \n",
       "4                         N             1082         2005   \n",
       "...                     ...              ...          ...   \n",
       "25475                     Y             2601         2008   \n",
       "25476                     N             3274         2006   \n",
       "25477                     N             1121         1910   \n",
       "25478                     Y             1918         1887   \n",
       "25479                     N             3195         1960   \n",
       "\n",
       "      region_of_employment  prevailing_wage unit_of_wage full_time_position  \\\n",
       "0                     West         592.2029         Hour                  Y   \n",
       "1                Northeast       83425.6500         Year                  Y   \n",
       "2                     West      122996.8600         Year                  Y   \n",
       "3                     West       83434.0300         Year                  Y   \n",
       "4                    South      149907.3900         Year                  Y   \n",
       "...                    ...              ...          ...                ...   \n",
       "25475                South       77092.5700         Year                  Y   \n",
       "25476            Northeast      279174.7900         Year                  Y   \n",
       "25477                South      146298.8500         Year                  N   \n",
       "25478                 West       86154.7700         Year                  Y   \n",
       "25479              Midwest       70876.9100         Year                  Y   \n",
       "\n",
       "      case_status  \n",
       "0          Denied  \n",
       "1       Certified  \n",
       "2          Denied  \n",
       "3          Denied  \n",
       "4       Certified  \n",
       "...           ...  \n",
       "25475   Certified  \n",
       "25476   Certified  \n",
       "25477   Certified  \n",
       "25478   Certified  \n",
       "25479   Certified  \n",
       "\n",
       "[25480 rows x 12 columns]"
      ]
     },
     "execution_count": 2,
     "metadata": {},
     "output_type": "execute_result"
    }
   ],
   "source": [
    "import pandas as pd\n",
    "visa_df=pd.read_csv('Visadataset.csv')\n",
    "visa_df"
   ]
  },
  {
   "cell_type": "code",
   "execution_count": 3,
   "id": "d712cc50-ba8a-43d7-b450-ca2914a29984",
   "metadata": {},
   "outputs": [],
   "source": [
    "cat_cols=visa_df.select_dtypes(include='object').columns        #  the names of the column who contains charectoes or alphabets\n",
    "num_cols=visa_df.select_dtypes(exclude='object').columns        #  the names of the column who contains numerical values\n",
    "# by using this we can take numerical columns and categorical columns"
   ]
  },
  {
   "cell_type": "code",
   "execution_count": 4,
   "id": "e675e390-03f5-46ca-bbc3-ce74a3f41fb9",
   "metadata": {},
   "outputs": [
    {
     "data": {
      "text/plain": [
       "Index(['case_id', 'continent', 'education_of_employee', 'has_job_experience',\n",
       "       'requires_job_training', 'region_of_employment', 'unit_of_wage',\n",
       "       'full_time_position', 'case_status'],\n",
       "      dtype='object')"
      ]
     },
     "execution_count": 4,
     "metadata": {},
     "output_type": "execute_result"
    }
   ],
   "source": [
    "cat_cols"
   ]
  },
  {
   "cell_type": "code",
   "execution_count": 4,
   "id": "300657c5-7b62-4530-9de4-292d6baf6e08",
   "metadata": {},
   "outputs": [
    {
     "data": {
      "text/plain": [
       "Index(['no_of_employees', 'yr_of_estab', 'prevailing_wage'], dtype='object')"
      ]
     },
     "execution_count": 4,
     "metadata": {},
     "output_type": "execute_result"
    }
   ],
   "source": [
    "num_cols"
   ]
  },
  {
   "cell_type": "markdown",
   "id": "2735e51b-3343-461e-8948-f3a15ffb799d",
   "metadata": {},
   "source": [
    "**how many ways retrive a column**\n",
    "\n",
    "- i want to retrive a continent column"
   ]
  },
  {
   "cell_type": "code",
   "execution_count": 5,
   "id": "6fdef39e-2e04-459a-ab88-6fbd85bb2d1a",
   "metadata": {},
   "outputs": [
    {
     "data": {
      "text/plain": [
       "0          Asia\n",
       "1          Asia\n",
       "2          Asia\n",
       "3          Asia\n",
       "4        Africa\n",
       "          ...  \n",
       "25475      Asia\n",
       "25476      Asia\n",
       "25477      Asia\n",
       "25478      Asia\n",
       "25479      Asia\n",
       "Name: continent, Length: 25480, dtype: object"
      ]
     },
     "execution_count": 5,
     "metadata": {},
     "output_type": "execute_result"
    }
   ],
   "source": [
    "visa_df['continent'] #series              # print the series of 'continent'\n",
    "visa_df[['continent']]  #DataFrame\n",
    "visa_df.iloc[:,1]         #series         # it gives the series of perticular column and value ,it is for integer only \n",
    "visa_df.loc[:,'continent'] #series\n",
    "visa_df.iloc[:,[1]] # Dataframe\n",
    "visa_df.loc[:,['continent']] #Dataframe\n",
    "visa_df.continent #series\n"
   ]
  },
  {
   "cell_type": "markdown",
   "id": "178006a7-d19a-4d5a-a1b4-f14ef616e96d",
   "metadata": {},
   "source": [
    "**unique**\n",
    "\n",
    "- read the continent column apply unique methood\n",
    "\n",
    "- it will give the continents lables which are repeating entire data"
   ]
  },
  {
   "cell_type": "code",
   "execution_count": 6,
   "id": "0633a765-0822-4440-83bc-352ab674d6d6",
   "metadata": {},
   "outputs": [
    {
     "data": {
      "text/plain": [
       "array(['Asia', 'Africa', 'North America', 'Europe', 'South America',\n",
       "       'Oceania'], dtype=object)"
      ]
     },
     "execution_count": 6,
     "metadata": {},
     "output_type": "execute_result"
    }
   ],
   "source": [
    "visa_df['continent'].unique()"
   ]
  },
  {
   "cell_type": "markdown",
   "id": "6927131e-5b78-490c-8ba9-bc6a742ffa6e",
   "metadata": {},
   "source": [
    "- total dataro are 25480\n",
    "- continent has only 6 unique labels"
   ]
  },
  {
   "cell_type": "markdown",
   "id": "0e6783e7-e89e-46be-ac19-15c4a9e9b244",
   "metadata": {},
   "source": [
    "**nununique**"
   ]
  },
  {
   "cell_type": "code",
   "execution_count": 7,
   "id": "43b3d3c2-ac0d-4842-bc96-bd2c5648d4c5",
   "metadata": {},
   "outputs": [
    {
     "data": {
      "text/plain": [
       "6"
      ]
     },
     "execution_count": 7,
     "metadata": {},
     "output_type": "execute_result"
    }
   ],
   "source": [
    "visa_df['continent'].nunique()"
   ]
  },
  {
   "cell_type": "markdown",
   "id": "c761addc-ad33-481c-8719-9b024f51793a",
   "metadata": {},
   "source": [
    "**task:1**\n",
    "\n",
    "- we know that only 6 labels are reapiting in entire 25480 observations\n",
    "\n",
    "- now we want to know how many times **Asia** reapiting\n",
    "\n",
    "- we already know that cat column can represent using **frequency table**\n",
    "\n",
    "- our main goal is to find the frequency table"
   ]
  },
  {
   "cell_type": "code",
   "execution_count": 21,
   "id": "f717127b-a738-44a6-9dc8-8b5f26bd4b0d",
   "metadata": {},
   "outputs": [
    {
     "data": {
      "text/plain": [
       "16861"
      ]
     },
     "execution_count": 21,
     "metadata": {},
     "output_type": "execute_result"
    }
   ],
   "source": [
    "# getting the count of total no of application from each continent\n",
    "\n",
    "# step-:read continent data\n",
    "# step-2 we want asia so the dataequal to asia \n",
    "\n",
    "visa_df['continent']                     # first we took the continent column\n",
    "con=visa_df['continent']=='Asia'        # in continent we took asia\n",
    "# print(con)\n",
    "visa_df[con]                     # then we took the data from asia \n",
    "len(visa_df[con])               # after that we count the length of asia \n",
    "\n",
    "\n",
    "\n",
    "visa_df['continent']\n",
    "con=visa_df['continent']=='Africa'\n",
    "visa_df[con]\n",
    "print(len(visa_df[con]))\n",
    "\n",
    "visa_df['continent']\n",
    "con=visa_df['continent']=='North America'\n",
    "visa_df[con]\n",
    "print(len(visa_df[con]))\n",
    "\n",
    "visa_df['continent']\n",
    "con=visa_df['continent']=='Europe'\n",
    "visa_df[con]\n",
    "print(len(visa_df[con]))\n",
    "\n",
    "visa_df['continent']\n",
    "con=visa_df['continent']=='South America'\n",
    "visa_df[con]\n",
    "print(len(visa_df[con]))\n",
    "\n",
    "visa_df['continent']\n",
    "con=visa_df['continent']=='Oceania'\n",
    "visa_df[con]\n",
    "print(len(visa_df[con]))\n",
    "\n",
    "\n",
    "# found h"
   ]
  },
  {
   "cell_type": "code",
   "execution_count": 29,
   "id": "7b104689-fcd7-4ab3-8854-96316fe74f0c",
   "metadata": {},
   "outputs": [
    {
     "name": "stdout",
     "output_type": "stream",
     "text": [
      "The number of applicants from Asia is : 16861\n",
      "The number of applicants from Africa is : 551\n",
      "The number of applicants from North America is : 3292\n",
      "The number of applicants from Europe is : 3732\n",
      "The number of applicants from South America is : 852\n",
      "The number of applicants from Oceania is : 192\n",
      "this is instruction\n"
     ]
    },
    {
     "data": {
      "text/plain": [
       "array(['Asia', 'Africa', 'North America', 'Europe', 'South America',\n",
       "       'Oceania'], dtype=object)"
      ]
     },
     "execution_count": 29,
     "metadata": {},
     "output_type": "execute_result"
    }
   ],
   "source": [
    "# by using the for loop getting the count of total no of application from each continent\n",
    "\n",
    "# printing the count\n",
    "cont_lables=visa_df['continent'].unique()\n",
    "for i in cont_lables:\n",
    "    visa_df['continent']\n",
    "    con=visa_df['continent']==i\n",
    "    visa_df[con]\n",
    "    count=len(visa_df[con])\n",
    "    print(f'The number of applicants from {i} is : {count}')\n",
    "\n",
    "# counted the number of applications in verious continents\n",
    "\n",
    "print(\"this is instruction\")\n"
   ]
  },
  {
   "cell_type": "code",
   "execution_count": 37,
   "id": "0ec585fc-9e9a-4987-86ee-58ed4a0b2417",
   "metadata": {},
   "outputs": [
    {
     "data": {
      "text/plain": [
       "([192, 192, 192, 192, 192, 192],\n",
       " array(['Asia', 'Africa', 'North America', 'Europe', 'South America',\n",
       "        'Oceania'], dtype=object))"
      ]
     },
     "execution_count": 37,
     "metadata": {},
     "output_type": "execute_result"
    }
   ],
   "source": [
    "# appending the count in list\n",
    "cont_labels=visa_df['continent'].unique()\n",
    "count=[]\n",
    "for i in count_labels:\n",
    "    visa_df['continent']\n",
    "    visa_df['continent']==i\n",
    "    visa_df[con]\n",
    "    count.append( len(visa_df[con]))\n",
    "count,cont_lables\n",
    "\n",
    "#created a list of no.of applicant and continents"
   ]
  },
  {
   "cell_type": "code",
   "execution_count": 38,
   "id": "0343184d-ea5f-46dd-a193-d6cc53886d8a",
   "metadata": {},
   "outputs": [
    {
     "data": {
      "text/html": [
       "<div>\n",
       "<style scoped>\n",
       "    .dataframe tbody tr th:only-of-type {\n",
       "        vertical-align: middle;\n",
       "    }\n",
       "\n",
       "    .dataframe tbody tr th {\n",
       "        vertical-align: top;\n",
       "    }\n",
       "\n",
       "    .dataframe thead th {\n",
       "        text-align: right;\n",
       "    }\n",
       "</style>\n",
       "<table border=\"1\" class=\"dataframe\">\n",
       "  <thead>\n",
       "    <tr style=\"text-align: right;\">\n",
       "      <th></th>\n",
       "      <th>Continent</th>\n",
       "      <th>Number of Applicants</th>\n",
       "    </tr>\n",
       "  </thead>\n",
       "  <tbody>\n",
       "    <tr>\n",
       "      <th>0</th>\n",
       "      <td>Asia</td>\n",
       "      <td>192</td>\n",
       "    </tr>\n",
       "    <tr>\n",
       "      <th>1</th>\n",
       "      <td>Africa</td>\n",
       "      <td>192</td>\n",
       "    </tr>\n",
       "    <tr>\n",
       "      <th>2</th>\n",
       "      <td>North America</td>\n",
       "      <td>192</td>\n",
       "    </tr>\n",
       "    <tr>\n",
       "      <th>3</th>\n",
       "      <td>Europe</td>\n",
       "      <td>192</td>\n",
       "    </tr>\n",
       "    <tr>\n",
       "      <th>4</th>\n",
       "      <td>South America</td>\n",
       "      <td>192</td>\n",
       "    </tr>\n",
       "    <tr>\n",
       "      <th>5</th>\n",
       "      <td>Oceania</td>\n",
       "      <td>192</td>\n",
       "    </tr>\n",
       "  </tbody>\n",
       "</table>\n",
       "</div>"
      ],
      "text/plain": [
       "       Continent  Number of Applicants\n",
       "0           Asia                   192\n",
       "1         Africa                   192\n",
       "2  North America                   192\n",
       "3         Europe                   192\n",
       "4  South America                   192\n",
       "5        Oceania                   192"
      ]
     },
     "execution_count": 38,
     "metadata": {},
     "output_type": "execute_result"
    }
   ],
   "source": [
    "pd.DataFrame(zip(cont_lables,count),\n",
    "            columns=['Continent','Number of Applicants'])    # after creating the list, created a dataframe Dataframe "
   ]
  },
  {
   "cell_type": "code",
   "execution_count": 24,
   "id": "2b379fa0-432b-4b6e-b98c-d02e4e6e073a",
   "metadata": {},
   "outputs": [
    {
     "ename": "AttributeError",
     "evalue": "'Series' object has no attribute 'values_column'",
     "output_type": "error",
     "traceback": [
      "\u001b[1;31m---------------------------------------------------------------------------\u001b[0m",
      "\u001b[1;31mAttributeError\u001b[0m                            Traceback (most recent call last)",
      "\u001b[1;32m~\\AppData\\Local\\Temp\\ipykernel_12020\\2127249881.py\u001b[0m in \u001b[0;36m?\u001b[1;34m()\u001b[0m\n\u001b[1;32m----> 1\u001b[1;33m \u001b[0mvisa_df\u001b[0m\u001b[1;33m[\u001b[0m\u001b[1;34m'continent'\u001b[0m\u001b[1;33m]\u001b[0m\u001b[1;33m.\u001b[0m\u001b[0mvalues_column\u001b[0m\u001b[1;33m(\u001b[0m\u001b[1;33m)\u001b[0m\u001b[1;33m\u001b[0m\u001b[1;33m\u001b[0m\u001b[0m\n\u001b[0m",
      "\u001b[1;32m~\\Pankaj Anaconda\\Lib\\site-packages\\pandas\\core\\generic.py\u001b[0m in \u001b[0;36m?\u001b[1;34m(self, name)\u001b[0m\n\u001b[0;32m   6295\u001b[0m             \u001b[1;32mand\u001b[0m \u001b[0mname\u001b[0m \u001b[1;32mnot\u001b[0m \u001b[1;32min\u001b[0m \u001b[0mself\u001b[0m\u001b[1;33m.\u001b[0m\u001b[0m_accessors\u001b[0m\u001b[1;33m\u001b[0m\u001b[1;33m\u001b[0m\u001b[0m\n\u001b[0;32m   6296\u001b[0m             \u001b[1;32mand\u001b[0m \u001b[0mself\u001b[0m\u001b[1;33m.\u001b[0m\u001b[0m_info_axis\u001b[0m\u001b[1;33m.\u001b[0m\u001b[0m_can_hold_identifiers_and_holds_name\u001b[0m\u001b[1;33m(\u001b[0m\u001b[0mname\u001b[0m\u001b[1;33m)\u001b[0m\u001b[1;33m\u001b[0m\u001b[1;33m\u001b[0m\u001b[0m\n\u001b[0;32m   6297\u001b[0m         \u001b[1;33m)\u001b[0m\u001b[1;33m:\u001b[0m\u001b[1;33m\u001b[0m\u001b[1;33m\u001b[0m\u001b[0m\n\u001b[0;32m   6298\u001b[0m             \u001b[1;32mreturn\u001b[0m \u001b[0mself\u001b[0m\u001b[1;33m[\u001b[0m\u001b[0mname\u001b[0m\u001b[1;33m]\u001b[0m\u001b[1;33m\u001b[0m\u001b[1;33m\u001b[0m\u001b[0m\n\u001b[1;32m-> 6299\u001b[1;33m         \u001b[1;32mreturn\u001b[0m \u001b[0mobject\u001b[0m\u001b[1;33m.\u001b[0m\u001b[0m__getattribute__\u001b[0m\u001b[1;33m(\u001b[0m\u001b[0mself\u001b[0m\u001b[1;33m,\u001b[0m \u001b[0mname\u001b[0m\u001b[1;33m)\u001b[0m\u001b[1;33m\u001b[0m\u001b[1;33m\u001b[0m\u001b[0m\n\u001b[0m",
      "\u001b[1;31mAttributeError\u001b[0m: 'Series' object has no attribute 'values_column'"
     ]
    }
   ],
   "source": [
    "visa_df['continent'].values_column()"
   ]
  },
  {
   "cell_type": "code",
   "execution_count": null,
   "id": "d2282466-3ee8-40a5-b555-ed172b0085d4",
   "metadata": {},
   "outputs": [],
   "source": [
    "# paralell bank data set "
   ]
  },
  {
   "cell_type": "code",
   "execution_count": null,
   "id": "46084ae5-112f-4787-86ea-0aca51452020",
   "metadata": {},
   "outputs": [],
   "source": [
    "########################################### 30-08-2024 #####################################"
   ]
  },
  {
   "cell_type": "code",
   "execution_count": 27,
   "id": "8ca592aa-c6e1-49c3-a34d-2908d8587790",
   "metadata": {},
   "outputs": [
    {
     "data": {
      "text/plain": [
       "Index(['no_of_employees', 'yr_of_estab', 'prevailing_wage'], dtype='object')"
      ]
     },
     "execution_count": 27,
     "metadata": {},
     "output_type": "execute_result"
    }
   ],
   "source": [
    "# import the packages\n",
    "# read the data\n",
    "# convert into cat and num colmsd\n",
    "\n",
    "import pandas as pd\n",
    "\n",
    "visa_df=pd.read_csv('Visadataset.csv')\n",
    "# cat_cols=visa_df.select_dtypes(include='object').columns\n",
    "num_cols=visa_df.select_dtypes(exclude='object').columns\n",
    "num_cols"
   ]
  },
  {
   "cell_type": "code",
   "execution_count": null,
   "id": "3f6a7e11-ebb8-4886-b19b-6dc16b3fbf57",
   "metadata": {},
   "outputs": [],
   "source": [
    "# we learned how to read the "
   ]
  },
  {
   "cell_type": "code",
   "execution_count": 3,
   "id": "b66a5fbe-2479-4b6d-8e29-1be080732cde",
   "metadata": {},
   "outputs": [
    {
     "data": {
      "text/plain": [
       "continent\n",
       "Asia             16861\n",
       "Europe            3732\n",
       "North America     3292\n",
       "South America      852\n",
       "Africa             551\n",
       "Oceania            192\n",
       "Name: count, dtype: int64"
      ]
     },
     "execution_count": 3,
     "metadata": {},
     "output_type": "execute_result"
    }
   ],
   "source": [
    "count_data=visa_df['continent'].value_counts()\n",
    "#series\n",
    "# when we convert series into dictionary key value pair"
   ]
  },
  {
   "cell_type": "code",
   "execution_count": 7,
   "id": "7eab0909-c38e-40bd-973d-65883a605fd8",
   "metadata": {},
   "outputs": [],
   "source": [
    "con_keys=visa_df['continent'].value_counts().keys()"
   ]
  },
  {
   "cell_type": "code",
   "execution_count": 6,
   "id": "c3559c91-2f74-4206-aabe-c8a39b9a8a35",
   "metadata": {},
   "outputs": [],
   "source": [
    "count_values=visa_df['continent'].value_counts().values"
   ]
  },
  {
   "cell_type": "code",
   "execution_count": 9,
   "id": "8d027407-ef8e-414d-832d-be60de2345e9",
   "metadata": {},
   "outputs": [
    {
     "data": {
      "text/html": [
       "<div>\n",
       "<style scoped>\n",
       "    .dataframe tbody tr th:only-of-type {\n",
       "        vertical-align: middle;\n",
       "    }\n",
       "\n",
       "    .dataframe tbody tr th {\n",
       "        vertical-align: top;\n",
       "    }\n",
       "\n",
       "    .dataframe thead th {\n",
       "        text-align: right;\n",
       "    }\n",
       "</style>\n",
       "<table border=\"1\" class=\"dataframe\">\n",
       "  <thead>\n",
       "    <tr style=\"text-align: right;\">\n",
       "      <th></th>\n",
       "      <th>continent</th>\n",
       "      <th>Number of Applications</th>\n",
       "    </tr>\n",
       "  </thead>\n",
       "  <tbody>\n",
       "    <tr>\n",
       "      <th>0</th>\n",
       "      <td>Asia</td>\n",
       "      <td>16861</td>\n",
       "    </tr>\n",
       "    <tr>\n",
       "      <th>1</th>\n",
       "      <td>Europe</td>\n",
       "      <td>3732</td>\n",
       "    </tr>\n",
       "    <tr>\n",
       "      <th>2</th>\n",
       "      <td>North America</td>\n",
       "      <td>3292</td>\n",
       "    </tr>\n",
       "    <tr>\n",
       "      <th>3</th>\n",
       "      <td>South America</td>\n",
       "      <td>852</td>\n",
       "    </tr>\n",
       "    <tr>\n",
       "      <th>4</th>\n",
       "      <td>Africa</td>\n",
       "      <td>551</td>\n",
       "    </tr>\n",
       "    <tr>\n",
       "      <th>5</th>\n",
       "      <td>Oceania</td>\n",
       "      <td>192</td>\n",
       "    </tr>\n",
       "  </tbody>\n",
       "</table>\n",
       "</div>"
      ],
      "text/plain": [
       "       continent  Number of Applications\n",
       "0           Asia                   16861\n",
       "1         Europe                    3732\n",
       "2  North America                    3292\n",
       "3  South America                     852\n",
       "4         Africa                     551\n",
       "5        Oceania                     192"
      ]
     },
     "execution_count": 9,
     "metadata": {},
     "output_type": "execute_result"
    }
   ],
   "source": [
    "cols=['continent','Number of Applications']\n",
    "pd.DataFrame(zip(con_keys,count_values),columns=cols)"
   ]
  },
  {
   "cell_type": "code",
   "execution_count": 10,
   "id": "63f91a37-d0a0-490f-9aad-f913d50c8ee2",
   "metadata": {},
   "outputs": [
    {
     "ename": "TypeError",
     "evalue": "'numpy.ndarray' object is not callable",
     "output_type": "error",
     "traceback": [
      "\u001b[1;31m---------------------------------------------------------------------------\u001b[0m",
      "\u001b[1;31mTypeError\u001b[0m                                 Traceback (most recent call last)",
      "Cell \u001b[1;32mIn[10], line 1\u001b[0m\n\u001b[1;32m----> 1\u001b[0m count_values\u001b[38;5;241m=\u001b[39mcon_keys\u001b[38;5;241m.\u001b[39mvalues()\n\u001b[0;32m      2\u001b[0m count_values\n",
      "\u001b[1;31mTypeError\u001b[0m: 'numpy.ndarray' object is not callable"
     ]
    }
   ],
   "source": [
    "count_values=con_keys.values()\n",
    "count_values                   # by second method"
   ]
  },
  {
   "cell_type": "code",
   "execution_count": null,
   "id": "5004097a-5554-4015-938a-50b2d048bda0",
   "metadata": {},
   "outputs": [],
   "source": [
    "method 2 using the for loop"
   ]
  },
  {
   "cell_type": "code",
   "execution_count": null,
   "id": "9235c52a-1d1a-4f7a-863b-e53908cf3f8a",
   "metadata": {},
   "outputs": [],
   "source": [
    "count_labels=visa_df['continent'].unique()\n",
    "count=[]\n",
    "for i in count_labels:\n",
    "    visa_df['continent']==i\n",
    "    visa_df[con]\n",
    "    count.append"
   ]
  },
  {
   "cell_type": "code",
   "execution_count": null,
   "id": "f67c36ba-92a6-4841-b44c-4a4ce6c4c3aa",
   "metadata": {},
   "outputs": [],
   "source": [
    "count_df1.to_csv('continent_info.csv',index=False)\n",
    "count_df2.to_excel('continet_info.xlsx',index=False)"
   ]
  },
  {
   "cell_type": "markdown",
   "id": "98e3cad0-5b18-4af2-9e9e-14e68897c151",
   "metadata": {},
   "source": [
    "**task 2**\n",
    "\n",
    "- Create all categorical columns frequency table using value_counts\n",
    "\n",
    "- using python create one directory (folder) with the name **frequency table**\n",
    "\n",
    "- you need to iterate each column, but each has different labels\n",
    "\n",
    "- provide one column name as **label**\n",
    "\n",
    "- anther colimn as **count**"
   ]
  },
  {
   "cell_type": "code",
   "execution_count": 19,
   "id": "3859a604-0dee-476b-923d-894cd8e9b80d",
   "metadata": {},
   "outputs": [],
   "source": [
    "cont_data=visa_df['continent'].value_counts()\n",
    "con_keys=cont_data.keys()\n",
    "cont_values=cont_data.values\n",
    "cols=['continents','Number of applicants']\n",
    "cont_df1=pd.DataFrame(zip(con_keys,cont_values),columns=cols)\n",
    "cont_df1.to_csv('continent_info.csv',index=False)"
   ]
  },
  {
   "cell_type": "code",
   "execution_count": 23,
   "id": "2c1a1fc9-6062-446c-a4d3-3bb19da524f8",
   "metadata": {},
   "outputs": [
    {
     "name": "stdout",
     "output_type": "stream",
     "text": [
      "yr_of_estab_info.csv\n",
      "prevailing_wage_info.csv\n"
     ]
    }
   ],
   "source": [
    "for i in cat_cols[1:]:\n",
    "    print(f'{i}_info.csv')"
   ]
  },
  {
   "cell_type": "markdown",
   "id": "f4dafaf5-1807-45d5-9fc3-1dbd5d600d6e",
   "metadata": {},
   "source": [
    "**create a folder**\n",
    "\n",
    "- Step 1: get the current working directory\n",
    "\n",
    "- step 2: what is your new folder name\n",
    "\n",
    "- step 3: join both\n",
    "\n",
    "- Step 4: make the directory"
   ]
  },
  {
   "cell_type": "code",
   "execution_count": 31,
   "id": "f15135f5-7c83-43e7-8415-4f0f44762251",
   "metadata": {},
   "outputs": [
    {
     "name": "stdout",
     "output_type": "stream",
     "text": [
      "[WinError 183] Cannot create a file when that file already exists: 'C:\\\\Users\\\\DELL\\\\Data Science Python\\\\frequency_table_by_me'\n"
     ]
    }
   ],
   "source": [
    "import os \n",
    "cwd = os.getcwd()\n",
    "folder_name = 'frequency_table_by_me'\n",
    "new_dir=os.path.join(cwd,folder_name)\n",
    "try:\n",
    "    os.makedirs(new_dir)\n",
    "except Exception as e:\n",
    "    print(e)"
   ]
  },
  {
   "cell_type": "code",
   "execution_count": 33,
   "id": "48d30403-4f81-43f9-9afd-4d94ccf75090",
   "metadata": {},
   "outputs": [
    {
     "name": "stdout",
     "output_type": "stream",
     "text": [
      "C:\\Users\\DELL\\Data Science Python\\frequency_table_by_me\\yr_of_estab_info.csv\n",
      "C:\\Users\\DELL\\Data Science Python\\frequency_table_by_me\\prevailing_wage_info.csv\n"
     ]
    }
   ],
   "source": [
    "for i in cat_cols[1:]:\n",
    "    print(f'{new_dir}\\\\{i}_info.csv')"
   ]
  },
  {
   "cell_type": "code",
   "execution_count": 32,
   "id": "c08b0c29-7f60-41bc-9cf4-ed4dcca04528",
   "metadata": {},
   "outputs": [],
   "source": [
    "for i in cat_cols[1:]:\n",
    "    data=visa_df[i].values_count()\n",
    "    keys=data.keys()\n",
    "    "
   ]
  },
  {
   "cell_type": "code",
   "execution_count": null,
   "id": "b9a759d1-2e39-4fad-9456-0ab528abdb4d",
   "metadata": {},
   "outputs": [],
   "source": [
    "################## waiting for session 3 update #####################\n",
    "^\n",
    "|\n",
    "\n",
    "############################################################### 01-09-2024 #############################################################"
   ]
  },
  {
   "cell_type": "code",
   "execution_count": 24,
   "id": "1a7f4318-b63f-41a4-85d0-cdd762c2d51e",
   "metadata": {},
   "outputs": [],
   "source": [
    "import numpy as np\n",
    "import pandas as pd\n",
    "import matplotlib.pyplot as plt\n",
    "# import \n",
    "\n",
    "visa_df=pd.read_csv('Visadataset.csv')\n",
    "cat_cols=visa_df.select_dtypes(include='object').columns\n",
    "num_cols=visa_df.select_dtypes(include='object').columns"
   ]
  },
  {
   "cell_type": "code",
   "execution_count": 21,
   "id": "9273afc1-e768-4211-86bd-d1ac6d143d4d",
   "metadata": {},
   "outputs": [
    {
     "data": {
      "text/html": [
       "<div>\n",
       "<style scoped>\n",
       "    .dataframe tbody tr th:only-of-type {\n",
       "        vertical-align: middle;\n",
       "    }\n",
       "\n",
       "    .dataframe tbody tr th {\n",
       "        vertical-align: top;\n",
       "    }\n",
       "\n",
       "    .dataframe thead th {\n",
       "        text-align: right;\n",
       "    }\n",
       "</style>\n",
       "<table border=\"1\" class=\"dataframe\">\n",
       "  <thead>\n",
       "    <tr style=\"text-align: right;\">\n",
       "      <th></th>\n",
       "      <th>continent</th>\n",
       "      <th>number of applications</th>\n",
       "      <th>A</th>\n",
       "    </tr>\n",
       "  </thead>\n",
       "  <tbody>\n",
       "    <tr>\n",
       "      <th>0</th>\n",
       "      <td>16861</td>\n",
       "      <td>Asia</td>\n",
       "      <td>16861</td>\n",
       "    </tr>\n",
       "    <tr>\n",
       "      <th>1</th>\n",
       "      <td>3732</td>\n",
       "      <td>Europe</td>\n",
       "      <td>3732</td>\n",
       "    </tr>\n",
       "    <tr>\n",
       "      <th>2</th>\n",
       "      <td>3292</td>\n",
       "      <td>North America</td>\n",
       "      <td>3292</td>\n",
       "    </tr>\n",
       "    <tr>\n",
       "      <th>3</th>\n",
       "      <td>852</td>\n",
       "      <td>South America</td>\n",
       "      <td>852</td>\n",
       "    </tr>\n",
       "    <tr>\n",
       "      <th>4</th>\n",
       "      <td>551</td>\n",
       "      <td>Africa</td>\n",
       "      <td>551</td>\n",
       "    </tr>\n",
       "    <tr>\n",
       "      <th>5</th>\n",
       "      <td>192</td>\n",
       "      <td>Oceania</td>\n",
       "      <td>192</td>\n",
       "    </tr>\n",
       "  </tbody>\n",
       "</table>\n",
       "</div>"
      ],
      "text/plain": [
       "   continent number of applications      A\n",
       "0      16861                   Asia  16861\n",
       "1       3732                 Europe   3732\n",
       "2       3292          North America   3292\n",
       "3        852          South America    852\n",
       "4        551                 Africa    551\n",
       "5        192                Oceania    192"
      ]
     },
     "execution_count": 21,
     "metadata": {},
     "output_type": "execute_result"
    }
   ],
   "source": [
    "# frequency table \n",
    "# we have two methods\n",
    "# method1 : using the unique and for loop \n",
    "# method 2: using the value count (method)\n",
    "import pandas as pd\n",
    "visa_df=pd.read_csv('Visadataset.csv')\n",
    "visa_df\n",
    "cont_data = visa_df['continent'].value_counts()\n",
    "con_keys = cont_data.keys()\n",
    "cont_values = cont_data.values\n",
    "cols=['continent','number of applications']\n",
    "cont_df1=pd.DataFrame(zip(cont_data,con_keys,cont_values),columns=cols)\n",
    "cont_df1\n",
    "\n",
    "# the above task we need to repeate for all cat columns\n",
    "# but in that we are avoiding case id: many unique values\n",
    "# the above line "
   ]
  },
  {
   "cell_type": "code",
   "execution_count": 17,
   "id": "315b0574-580f-4def-9e72-16a9599cddaa",
   "metadata": {},
   "outputs": [],
   "source": [
    "import os \n",
    "folder='frequency table_2'\n",
    "new_dir=os.path.join(os.getcwd(),folder)\n",
    "os.makedirs(new_dir)"
   ]
  },
  {
   "cell_type": "code",
   "execution_count": null,
   "id": "edc98f48-a116-4571-9274-9cda6aa5113f",
   "metadata": {},
   "outputs": [],
   "source": []
  }
 ],
 "metadata": {
  "kernelspec": {
   "display_name": "Python 3 (ipykernel)",
   "language": "python",
   "name": "python3"
  },
  "language_info": {
   "codemirror_mode": {
    "name": "ipython",
    "version": 3
   },
   "file_extension": ".py",
   "mimetype": "text/x-python",
   "name": "python",
   "nbconvert_exporter": "python",
   "pygments_lexer": "ipython3",
   "version": "3.11.7"
  }
 },
 "nbformat": 4,
 "nbformat_minor": 5
}
