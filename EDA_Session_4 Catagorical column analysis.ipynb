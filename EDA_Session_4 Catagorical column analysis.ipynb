{
 "cells": [
  {
   "cell_type": "code",
   "execution_count": 15,
   "id": "2583454c-e14d-4891-984e-9a4c7ae5faf5",
   "metadata": {},
   "outputs": [],
   "source": [
    "import pandas as pd\n",
    "import numpy as np\n",
    "import matplotlib.pyplot as plt\n",
    "import seaborn as sns"
   ]
  },
  {
   "cell_type": "code",
   "execution_count": 17,
   "id": "6a74c642-90df-476a-904c-ad2ba59b649f",
   "metadata": {},
   "outputs": [
    {
     "data": {
      "text/html": [
       "<div>\n",
       "<style scoped>\n",
       "    .dataframe tbody tr th:only-of-type {\n",
       "        vertical-align: middle;\n",
       "    }\n",
       "\n",
       "    .dataframe tbody tr th {\n",
       "        vertical-align: top;\n",
       "    }\n",
       "\n",
       "    .dataframe thead th {\n",
       "        text-align: right;\n",
       "    }\n",
       "</style>\n",
       "<table border=\"1\" class=\"dataframe\">\n",
       "  <thead>\n",
       "    <tr style=\"text-align: right;\">\n",
       "      <th></th>\n",
       "      <th>case_id</th>\n",
       "      <th>continent</th>\n",
       "      <th>education_of_employee</th>\n",
       "      <th>has_job_experience</th>\n",
       "      <th>requires_job_training</th>\n",
       "      <th>no_of_employees</th>\n",
       "      <th>yr_of_estab</th>\n",
       "      <th>region_of_employment</th>\n",
       "      <th>prevailing_wage</th>\n",
       "      <th>unit_of_wage</th>\n",
       "      <th>full_time_position</th>\n",
       "      <th>case_status</th>\n",
       "    </tr>\n",
       "  </thead>\n",
       "  <tbody>\n",
       "    <tr>\n",
       "      <th>0</th>\n",
       "      <td>EZYV01</td>\n",
       "      <td>Asia</td>\n",
       "      <td>High School</td>\n",
       "      <td>N</td>\n",
       "      <td>N</td>\n",
       "      <td>14513</td>\n",
       "      <td>2007</td>\n",
       "      <td>West</td>\n",
       "      <td>592.2029</td>\n",
       "      <td>Hour</td>\n",
       "      <td>Y</td>\n",
       "      <td>Denied</td>\n",
       "    </tr>\n",
       "    <tr>\n",
       "      <th>1</th>\n",
       "      <td>EZYV02</td>\n",
       "      <td>Asia</td>\n",
       "      <td>Master's</td>\n",
       "      <td>Y</td>\n",
       "      <td>N</td>\n",
       "      <td>2412</td>\n",
       "      <td>2002</td>\n",
       "      <td>Northeast</td>\n",
       "      <td>83425.6500</td>\n",
       "      <td>Year</td>\n",
       "      <td>Y</td>\n",
       "      <td>Certified</td>\n",
       "    </tr>\n",
       "    <tr>\n",
       "      <th>2</th>\n",
       "      <td>EZYV03</td>\n",
       "      <td>Asia</td>\n",
       "      <td>Bachelor's</td>\n",
       "      <td>N</td>\n",
       "      <td>Y</td>\n",
       "      <td>44444</td>\n",
       "      <td>2008</td>\n",
       "      <td>West</td>\n",
       "      <td>122996.8600</td>\n",
       "      <td>Year</td>\n",
       "      <td>Y</td>\n",
       "      <td>Denied</td>\n",
       "    </tr>\n",
       "    <tr>\n",
       "      <th>3</th>\n",
       "      <td>EZYV04</td>\n",
       "      <td>Asia</td>\n",
       "      <td>Bachelor's</td>\n",
       "      <td>N</td>\n",
       "      <td>N</td>\n",
       "      <td>98</td>\n",
       "      <td>1897</td>\n",
       "      <td>West</td>\n",
       "      <td>83434.0300</td>\n",
       "      <td>Year</td>\n",
       "      <td>Y</td>\n",
       "      <td>Denied</td>\n",
       "    </tr>\n",
       "    <tr>\n",
       "      <th>4</th>\n",
       "      <td>EZYV05</td>\n",
       "      <td>Africa</td>\n",
       "      <td>Master's</td>\n",
       "      <td>Y</td>\n",
       "      <td>N</td>\n",
       "      <td>1082</td>\n",
       "      <td>2005</td>\n",
       "      <td>South</td>\n",
       "      <td>149907.3900</td>\n",
       "      <td>Year</td>\n",
       "      <td>Y</td>\n",
       "      <td>Certified</td>\n",
       "    </tr>\n",
       "    <tr>\n",
       "      <th>...</th>\n",
       "      <td>...</td>\n",
       "      <td>...</td>\n",
       "      <td>...</td>\n",
       "      <td>...</td>\n",
       "      <td>...</td>\n",
       "      <td>...</td>\n",
       "      <td>...</td>\n",
       "      <td>...</td>\n",
       "      <td>...</td>\n",
       "      <td>...</td>\n",
       "      <td>...</td>\n",
       "      <td>...</td>\n",
       "    </tr>\n",
       "    <tr>\n",
       "      <th>25475</th>\n",
       "      <td>EZYV25476</td>\n",
       "      <td>Asia</td>\n",
       "      <td>Bachelor's</td>\n",
       "      <td>Y</td>\n",
       "      <td>Y</td>\n",
       "      <td>2601</td>\n",
       "      <td>2008</td>\n",
       "      <td>South</td>\n",
       "      <td>77092.5700</td>\n",
       "      <td>Year</td>\n",
       "      <td>Y</td>\n",
       "      <td>Certified</td>\n",
       "    </tr>\n",
       "    <tr>\n",
       "      <th>25476</th>\n",
       "      <td>EZYV25477</td>\n",
       "      <td>Asia</td>\n",
       "      <td>High School</td>\n",
       "      <td>Y</td>\n",
       "      <td>N</td>\n",
       "      <td>3274</td>\n",
       "      <td>2006</td>\n",
       "      <td>Northeast</td>\n",
       "      <td>279174.7900</td>\n",
       "      <td>Year</td>\n",
       "      <td>Y</td>\n",
       "      <td>Certified</td>\n",
       "    </tr>\n",
       "    <tr>\n",
       "      <th>25477</th>\n",
       "      <td>EZYV25478</td>\n",
       "      <td>Asia</td>\n",
       "      <td>Master's</td>\n",
       "      <td>Y</td>\n",
       "      <td>N</td>\n",
       "      <td>1121</td>\n",
       "      <td>1910</td>\n",
       "      <td>South</td>\n",
       "      <td>146298.8500</td>\n",
       "      <td>Year</td>\n",
       "      <td>N</td>\n",
       "      <td>Certified</td>\n",
       "    </tr>\n",
       "    <tr>\n",
       "      <th>25478</th>\n",
       "      <td>EZYV25479</td>\n",
       "      <td>Asia</td>\n",
       "      <td>Master's</td>\n",
       "      <td>Y</td>\n",
       "      <td>Y</td>\n",
       "      <td>1918</td>\n",
       "      <td>1887</td>\n",
       "      <td>West</td>\n",
       "      <td>86154.7700</td>\n",
       "      <td>Year</td>\n",
       "      <td>Y</td>\n",
       "      <td>Certified</td>\n",
       "    </tr>\n",
       "    <tr>\n",
       "      <th>25479</th>\n",
       "      <td>EZYV25480</td>\n",
       "      <td>Asia</td>\n",
       "      <td>Bachelor's</td>\n",
       "      <td>Y</td>\n",
       "      <td>N</td>\n",
       "      <td>3195</td>\n",
       "      <td>1960</td>\n",
       "      <td>Midwest</td>\n",
       "      <td>70876.9100</td>\n",
       "      <td>Year</td>\n",
       "      <td>Y</td>\n",
       "      <td>Certified</td>\n",
       "    </tr>\n",
       "  </tbody>\n",
       "</table>\n",
       "<p>25480 rows × 12 columns</p>\n",
       "</div>"
      ],
      "text/plain": [
       "         case_id continent education_of_employee has_job_experience  \\\n",
       "0         EZYV01      Asia           High School                  N   \n",
       "1         EZYV02      Asia              Master's                  Y   \n",
       "2         EZYV03      Asia            Bachelor's                  N   \n",
       "3         EZYV04      Asia            Bachelor's                  N   \n",
       "4         EZYV05    Africa              Master's                  Y   \n",
       "...          ...       ...                   ...                ...   \n",
       "25475  EZYV25476      Asia            Bachelor's                  Y   \n",
       "25476  EZYV25477      Asia           High School                  Y   \n",
       "25477  EZYV25478      Asia              Master's                  Y   \n",
       "25478  EZYV25479      Asia              Master's                  Y   \n",
       "25479  EZYV25480      Asia            Bachelor's                  Y   \n",
       "\n",
       "      requires_job_training  no_of_employees  yr_of_estab  \\\n",
       "0                         N            14513         2007   \n",
       "1                         N             2412         2002   \n",
       "2                         Y            44444         2008   \n",
       "3                         N               98         1897   \n",
       "4                         N             1082         2005   \n",
       "...                     ...              ...          ...   \n",
       "25475                     Y             2601         2008   \n",
       "25476                     N             3274         2006   \n",
       "25477                     N             1121         1910   \n",
       "25478                     Y             1918         1887   \n",
       "25479                     N             3195         1960   \n",
       "\n",
       "      region_of_employment  prevailing_wage unit_of_wage full_time_position  \\\n",
       "0                     West         592.2029         Hour                  Y   \n",
       "1                Northeast       83425.6500         Year                  Y   \n",
       "2                     West      122996.8600         Year                  Y   \n",
       "3                     West       83434.0300         Year                  Y   \n",
       "4                    South      149907.3900         Year                  Y   \n",
       "...                    ...              ...          ...                ...   \n",
       "25475                South       77092.5700         Year                  Y   \n",
       "25476            Northeast      279174.7900         Year                  Y   \n",
       "25477                South      146298.8500         Year                  N   \n",
       "25478                 West       86154.7700         Year                  Y   \n",
       "25479              Midwest       70876.9100         Year                  Y   \n",
       "\n",
       "      case_status  \n",
       "0          Denied  \n",
       "1       Certified  \n",
       "2          Denied  \n",
       "3          Denied  \n",
       "4       Certified  \n",
       "...           ...  \n",
       "25475   Certified  \n",
       "25476   Certified  \n",
       "25477   Certified  \n",
       "25478   Certified  \n",
       "25479   Certified  \n",
       "\n",
       "[25480 rows x 12 columns]"
      ]
     },
     "execution_count": 17,
     "metadata": {},
     "output_type": "execute_result"
    }
   ],
   "source": [
    "visa_df=pd.read_csv('Visadataset.csv')\n",
    "visa_df"
   ]
  },
  {
   "cell_type": "code",
   "execution_count": 18,
   "id": "8b4f1846-5608-410f-a4b3-735be721927c",
   "metadata": {},
   "outputs": [
    {
     "data": {
      "text/plain": [
       "Index(['case_id', 'continent', 'education_of_employee', 'has_job_experience',\n",
       "       'requires_job_training', 'region_of_employment', 'unit_of_wage',\n",
       "       'full_time_position', 'case_status'],\n",
       "      dtype='object')"
      ]
     },
     "execution_count": 18,
     "metadata": {},
     "output_type": "execute_result"
    }
   ],
   "source": [
    "cat_col=visa_df.select_dtypes(include='object').columns\n",
    "cat_col"
   ]
  },
  {
   "cell_type": "code",
   "execution_count": 19,
   "id": "41958236-988d-4981-bae1-b9b10aedd107",
   "metadata": {},
   "outputs": [],
   "source": [
    "cat_cols=visa_df.select_dtypes(include='object').columns\n",
    "num_cols=visa_df.select_dtypes(exclude='object').columns"
   ]
  },
  {
   "cell_type": "markdown",
   "id": "40f09a6c-9c55-4a89-9661-5d0de5a21c7b",
   "metadata": {},
   "source": [
    "**1.continent**"
   ]
  },
  {
   "cell_type": "code",
   "execution_count": 20,
   "id": "515dd44e-39bb-45d1-b58e-1414360d31c7",
   "metadata": {},
   "outputs": [
    {
     "data": {
      "text/html": [
       "<div>\n",
       "<style scoped>\n",
       "    .dataframe tbody tr th:only-of-type {\n",
       "        vertical-align: middle;\n",
       "    }\n",
       "\n",
       "    .dataframe tbody tr th {\n",
       "        vertical-align: top;\n",
       "    }\n",
       "\n",
       "    .dataframe thead th {\n",
       "        text-align: right;\n",
       "    }\n",
       "</style>\n",
       "<table border=\"1\" class=\"dataframe\">\n",
       "  <thead>\n",
       "    <tr style=\"text-align: right;\">\n",
       "      <th></th>\n",
       "      <th>cont_lables</th>\n",
       "      <th>count</th>\n",
       "    </tr>\n",
       "  </thead>\n",
       "  <tbody>\n",
       "    <tr>\n",
       "      <th>0</th>\n",
       "      <td>Asia</td>\n",
       "      <td>16861</td>\n",
       "    </tr>\n",
       "    <tr>\n",
       "      <th>1</th>\n",
       "      <td>Africa</td>\n",
       "      <td>551</td>\n",
       "    </tr>\n",
       "    <tr>\n",
       "      <th>2</th>\n",
       "      <td>North America</td>\n",
       "      <td>3292</td>\n",
       "    </tr>\n",
       "    <tr>\n",
       "      <th>3</th>\n",
       "      <td>Europe</td>\n",
       "      <td>3732</td>\n",
       "    </tr>\n",
       "    <tr>\n",
       "      <th>4</th>\n",
       "      <td>South America</td>\n",
       "      <td>852</td>\n",
       "    </tr>\n",
       "    <tr>\n",
       "      <th>5</th>\n",
       "      <td>Oceania</td>\n",
       "      <td>192</td>\n",
       "    </tr>\n",
       "  </tbody>\n",
       "</table>\n",
       "</div>"
      ],
      "text/plain": [
       "     cont_lables  count\n",
       "0           Asia  16861\n",
       "1         Africa    551\n",
       "2  North America   3292\n",
       "3         Europe   3732\n",
       "4  South America    852\n",
       "5        Oceania    192"
      ]
     },
     "execution_count": 20,
     "metadata": {},
     "output_type": "execute_result"
    }
   ],
   "source": [
    "cont_lables=visa_df['continent'].unique()\n",
    "count=[]\n",
    "for i in cont_lables:\n",
    "    visa_df['continent']\n",
    "    con=visa_df['continent']==i\n",
    "    visa_df[con]\n",
    "    count.append(len(visa_df[con]))\n",
    "cont_df2=pd.DataFrame(zip(cont_lables,count),columns=['cont_lables','count'])\n",
    "cont_df2"
   ]
  },
  {
   "cell_type": "code",
   "execution_count": 21,
   "id": "9378d9ea-f0b9-4541-a917-a7e7e54297ac",
   "metadata": {},
   "outputs": [
    {
     "data": {
      "text/plain": [
       "<BarContainer object of 6 artists>"
      ]
     },
     "execution_count": 21,
     "metadata": {},
     "output_type": "execute_result"
    },
    {
     "data": {
      "image/png": "[encoded data removed]",
      "text/plain": [
       "<Figure size 1000x500 with 1 Axes>"
      ]
     },
     "metadata": {},
     "output_type": "display_data"
    }
   ],
   "source": [
    "plt.figure(figsize=(10,5))\n",
    "data=visa_df['continent'].value_counts()\n",
    "keys=data.keys()\n",
    "values=data.values\n",
    "cols=['lables','count']\n",
    "df=pd.DataFrame(zip(keys,values),\n",
    "               columns=cols)\n",
    "plt.bar(df['lables'],df['count'])"
   ]
  },
  {
   "cell_type": "markdown",
   "id": "c3915948-cfcc-4a9e-b5b0-1a8504bb0b15",
   "metadata": {},
   "source": [
    "**2.education_of_employee**"
   ]
  },
  {
   "cell_type": "code",
   "execution_count": 22,
   "id": "da1ceb68-9acd-4670-bbfa-4e5588d06221",
   "metadata": {},
   "outputs": [
    {
     "data": {
      "text/html": [
       "<div>\n",
       "<style scoped>\n",
       "    .dataframe tbody tr th:only-of-type {\n",
       "        vertical-align: middle;\n",
       "    }\n",
       "\n",
       "    .dataframe tbody tr th {\n",
       "        vertical-align: top;\n",
       "    }\n",
       "\n",
       "    .dataframe thead th {\n",
       "        text-align: right;\n",
       "    }\n",
       "</style>\n",
       "<table border=\"1\" class=\"dataframe\">\n",
       "  <thead>\n",
       "    <tr style=\"text-align: right;\">\n",
       "      <th></th>\n",
       "      <th>education</th>\n",
       "      <th>count</th>\n",
       "    </tr>\n",
       "  </thead>\n",
       "  <tbody>\n",
       "    <tr>\n",
       "      <th>0</th>\n",
       "      <td>High School</td>\n",
       "      <td>3420</td>\n",
       "    </tr>\n",
       "    <tr>\n",
       "      <th>1</th>\n",
       "      <td>Master's</td>\n",
       "      <td>9634</td>\n",
       "    </tr>\n",
       "    <tr>\n",
       "      <th>2</th>\n",
       "      <td>Bachelor's</td>\n",
       "      <td>10234</td>\n",
       "    </tr>\n",
       "    <tr>\n",
       "      <th>3</th>\n",
       "      <td>Doctorate</td>\n",
       "      <td>2192</td>\n",
       "    </tr>\n",
       "  </tbody>\n",
       "</table>\n",
       "</div>"
      ],
      "text/plain": [
       "     education  count\n",
       "0  High School   3420\n",
       "1     Master's   9634\n",
       "2   Bachelor's  10234\n",
       "3    Doctorate   2192"
      ]
     },
     "execution_count": 22,
     "metadata": {},
     "output_type": "execute_result"
    }
   ],
   "source": [
    "education=visa_df['education_of_employee'].unique()\n",
    "count=[]\n",
    "for i in education:\n",
    "    visa_df['education_of_employee']\n",
    "    edu=visa_df['education_of_employee']==i\n",
    "    visa_df[edu]\n",
    "    count.append(len(visa_df[edu]))\n",
    "cont_df2=pd.DataFrame(zip(education,count),columns=['education','count'])\n",
    "cont_df2"
   ]
  },
  {
   "cell_type": "markdown",
   "id": "b7c06bf4-a02b-4984-8b2d-be5c632e12f4",
   "metadata": {},
   "source": [
    "**3.has_job_experience**"
   ]
  },
  {
   "cell_type": "code",
   "execution_count": 23,
   "id": "1556edc8-cbd8-41aa-9e3b-a9eb48e5d314",
   "metadata": {},
   "outputs": [
    {
     "data": {
      "text/html": [
       "<div>\n",
       "<style scoped>\n",
       "    .dataframe tbody tr th:only-of-type {\n",
       "        vertical-align: middle;\n",
       "    }\n",
       "\n",
       "    .dataframe tbody tr th {\n",
       "        vertical-align: top;\n",
       "    }\n",
       "\n",
       "    .dataframe thead th {\n",
       "        text-align: right;\n",
       "    }\n",
       "</style>\n",
       "<table border=\"1\" class=\"dataframe\">\n",
       "  <thead>\n",
       "    <tr style=\"text-align: right;\">\n",
       "      <th></th>\n",
       "      <th>has_job</th>\n",
       "      <th>count</th>\n",
       "    </tr>\n",
       "  </thead>\n",
       "  <tbody>\n",
       "    <tr>\n",
       "      <th>0</th>\n",
       "      <td>N</td>\n",
       "      <td>10678</td>\n",
       "    </tr>\n",
       "    <tr>\n",
       "      <th>1</th>\n",
       "      <td>Y</td>\n",
       "      <td>14802</td>\n",
       "    </tr>\n",
       "  </tbody>\n",
       "</table>\n",
       "</div>"
      ],
      "text/plain": [
       "  has_job  count\n",
       "0       N  10678\n",
       "1       Y  14802"
      ]
     },
     "execution_count": 23,
     "metadata": {},
     "output_type": "execute_result"
    }
   ],
   "source": [
    "has_job=visa_df['has_job_experience'].unique()\n",
    "count=[]\n",
    "for i in has_job:\n",
    "    visa_df['has_job_experience']\n",
    "    job=visa_df['has_job_experience']==i\n",
    "    visa_df[job]\n",
    "    count.append(len(visa_df[job]))\n",
    "cont_df2=pd.DataFrame(zip(has_job,count),columns=['has_job','count'])\n",
    "cont_df2"
   ]
  },
  {
   "cell_type": "markdown",
   "id": "2654d31a-b64e-4c7d-a8b8-3c1532f28177",
   "metadata": {},
   "source": [
    "**4.requires_job_training**"
   ]
  },
  {
   "cell_type": "code",
   "execution_count": 24,
   "id": "80707b80-1442-479f-a4c2-716b9afa83c3",
   "metadata": {},
   "outputs": [
    {
     "data": {
      "text/html": [
       "<div>\n",
       "<style scoped>\n",
       "    .dataframe tbody tr th:only-of-type {\n",
       "        vertical-align: middle;\n",
       "    }\n",
       "\n",
       "    .dataframe tbody tr th {\n",
       "        vertical-align: top;\n",
       "    }\n",
       "\n",
       "    .dataframe thead th {\n",
       "        text-align: right;\n",
       "    }\n",
       "</style>\n",
       "<table border=\"1\" class=\"dataframe\">\n",
       "  <thead>\n",
       "    <tr style=\"text-align: right;\">\n",
       "      <th></th>\n",
       "      <th>requires_job</th>\n",
       "      <th>count</th>\n",
       "    </tr>\n",
       "  </thead>\n",
       "  <tbody>\n",
       "    <tr>\n",
       "      <th>0</th>\n",
       "      <td>N</td>\n",
       "      <td>22525</td>\n",
       "    </tr>\n",
       "    <tr>\n",
       "      <th>1</th>\n",
       "      <td>Y</td>\n",
       "      <td>2955</td>\n",
       "    </tr>\n",
       "  </tbody>\n",
       "</table>\n",
       "</div>"
      ],
      "text/plain": [
       "  requires_job  count\n",
       "0            N  22525\n",
       "1            Y   2955"
      ]
     },
     "execution_count": 24,
     "metadata": {},
     "output_type": "execute_result"
    }
   ],
   "source": [
    "requires_job=visa_df['requires_job_training'].unique()\n",
    "count=[]\n",
    "for i in requires_job:\n",
    "    visa_df['requires_job_training']\n",
    "    job=visa_df['requires_job_training']==i\n",
    "    visa_df[job]\n",
    "    count.append(len(visa_df[job]))\n",
    "cont_df2=pd.DataFrame(zip(requires_job,count),columns=['requires_job','count'])\n",
    "cont_df2"
   ]
  },
  {
   "cell_type": "markdown",
   "id": "db4deb68-b7bf-4462-8d5a-4a39366081ff",
   "metadata": {},
   "source": [
    "**5.region_of_employment**"
   ]
  },
  {
   "cell_type": "code",
   "execution_count": 25,
   "id": "a92a2d37-4fe7-4d54-8f57-1ae955f36bac",
   "metadata": {},
   "outputs": [
    {
     "data": {
      "text/html": [
       "<div>\n",
       "<style scoped>\n",
       "    .dataframe tbody tr th:only-of-type {\n",
       "        vertical-align: middle;\n",
       "    }\n",
       "\n",
       "    .dataframe tbody tr th {\n",
       "        vertical-align: top;\n",
       "    }\n",
       "\n",
       "    .dataframe thead th {\n",
       "        text-align: right;\n",
       "    }\n",
       "</style>\n",
       "<table border=\"1\" class=\"dataframe\">\n",
       "  <thead>\n",
       "    <tr style=\"text-align: right;\">\n",
       "      <th></th>\n",
       "      <th>region</th>\n",
       "      <th>count</th>\n",
       "    </tr>\n",
       "  </thead>\n",
       "  <tbody>\n",
       "    <tr>\n",
       "      <th>0</th>\n",
       "      <td>West</td>\n",
       "      <td>6586</td>\n",
       "    </tr>\n",
       "    <tr>\n",
       "      <th>1</th>\n",
       "      <td>Northeast</td>\n",
       "      <td>7195</td>\n",
       "    </tr>\n",
       "    <tr>\n",
       "      <th>2</th>\n",
       "      <td>South</td>\n",
       "      <td>7017</td>\n",
       "    </tr>\n",
       "    <tr>\n",
       "      <th>3</th>\n",
       "      <td>Midwest</td>\n",
       "      <td>4307</td>\n",
       "    </tr>\n",
       "    <tr>\n",
       "      <th>4</th>\n",
       "      <td>Island</td>\n",
       "      <td>375</td>\n",
       "    </tr>\n",
       "  </tbody>\n",
       "</table>\n",
       "</div>"
      ],
      "text/plain": [
       "      region  count\n",
       "0       West   6586\n",
       "1  Northeast   7195\n",
       "2      South   7017\n",
       "3    Midwest   4307\n",
       "4     Island    375"
      ]
     },
     "execution_count": 25,
     "metadata": {},
     "output_type": "execute_result"
    }
   ],
   "source": [
    "region=visa_df['region_of_employment'].unique()\n",
    "count=[]\n",
    "for i in region:\n",
    "    visa_df['region_of_employment']\n",
    "    job=visa_df['region_of_employment']==i\n",
    "    visa_df[job]\n",
    "    count.append(len(visa_df[job]))\n",
    "cont_df2=pd.DataFrame(zip(region,count),columns=['region','count'])\n",
    "cont_df2"
   ]
  },
  {
   "cell_type": "markdown",
   "id": "38171e5b-1886-41a9-9b2f-f7da99dcd17d",
   "metadata": {},
   "source": [
    "**6.unit_of_wage**"
   ]
  },
  {
   "cell_type": "code",
   "execution_count": 26,
   "id": "48f05bfc-f0b7-426b-b8d6-3e8291226137",
   "metadata": {},
   "outputs": [
    {
     "data": {
      "text/html": [
       "<div>\n",
       "<style scoped>\n",
       "    .dataframe tbody tr th:only-of-type {\n",
       "        vertical-align: middle;\n",
       "    }\n",
       "\n",
       "    .dataframe tbody tr th {\n",
       "        vertical-align: top;\n",
       "    }\n",
       "\n",
       "    .dataframe thead th {\n",
       "        text-align: right;\n",
       "    }\n",
       "</style>\n",
       "<table border=\"1\" class=\"dataframe\">\n",
       "  <thead>\n",
       "    <tr style=\"text-align: right;\">\n",
       "      <th></th>\n",
       "      <th>unit</th>\n",
       "      <th>count</th>\n",
       "    </tr>\n",
       "  </thead>\n",
       "  <tbody>\n",
       "    <tr>\n",
       "      <th>0</th>\n",
       "      <td>Hour</td>\n",
       "      <td>2157</td>\n",
       "    </tr>\n",
       "    <tr>\n",
       "      <th>1</th>\n",
       "      <td>Year</td>\n",
       "      <td>22962</td>\n",
       "    </tr>\n",
       "    <tr>\n",
       "      <th>2</th>\n",
       "      <td>Week</td>\n",
       "      <td>272</td>\n",
       "    </tr>\n",
       "    <tr>\n",
       "      <th>3</th>\n",
       "      <td>Month</td>\n",
       "      <td>89</td>\n",
       "    </tr>\n",
       "  </tbody>\n",
       "</table>\n",
       "</div>"
      ],
      "text/plain": [
       "    unit  count\n",
       "0   Hour   2157\n",
       "1   Year  22962\n",
       "2   Week    272\n",
       "3  Month     89"
      ]
     },
     "execution_count": 26,
     "metadata": {},
     "output_type": "execute_result"
    }
   ],
   "source": [
    "unit=visa_df['unit_of_wage'].unique()\n",
    "count=[]\n",
    "for i in unit:\n",
    "    visa_df['unit_of_wage']\n",
    "    job=visa_df['unit_of_wage']==i\n",
    "    visa_df[job]\n",
    "    count.append(len(visa_df[job]))\n",
    "cont_df2=pd.DataFrame(zip(unit,count),columns=['unit','count'])\n",
    "cont_df2"
   ]
  },
  {
   "cell_type": "markdown",
   "id": "16a257b4-a339-44ab-909e-9c643f1d43ad",
   "metadata": {},
   "source": [
    "**7.full_time_position**"
   ]
  },
  {
   "cell_type": "code",
   "execution_count": 27,
   "id": "f84af514-c313-486a-b3a7-a2b66882884f",
   "metadata": {},
   "outputs": [
    {
     "data": {
      "text/html": [
       "<div>\n",
       "<style scoped>\n",
       "    .dataframe tbody tr th:only-of-type {\n",
       "        vertical-align: middle;\n",
       "    }\n",
       "\n",
       "    .dataframe tbody tr th {\n",
       "        vertical-align: top;\n",
       "    }\n",
       "\n",
       "    .dataframe thead th {\n",
       "        text-align: right;\n",
       "    }\n",
       "</style>\n",
       "<table border=\"1\" class=\"dataframe\">\n",
       "  <thead>\n",
       "    <tr style=\"text-align: right;\">\n",
       "      <th></th>\n",
       "      <th>full_time_position</th>\n",
       "      <th>count</th>\n",
       "    </tr>\n",
       "  </thead>\n",
       "  <tbody>\n",
       "    <tr>\n",
       "      <th>0</th>\n",
       "      <td>Y</td>\n",
       "      <td>22773</td>\n",
       "    </tr>\n",
       "    <tr>\n",
       "      <th>1</th>\n",
       "      <td>N</td>\n",
       "      <td>2707</td>\n",
       "    </tr>\n",
       "  </tbody>\n",
       "</table>\n",
       "</div>"
      ],
      "text/plain": [
       "  full_time_position  count\n",
       "0                  Y  22773\n",
       "1                  N   2707"
      ]
     },
     "execution_count": 27,
     "metadata": {},
     "output_type": "execute_result"
    }
   ],
   "source": [
    "full_time=visa_df['full_time_position'].unique()\n",
    "count=[]\n",
    "for i in full_time:\n",
    "    visa_df['full_time_position']\n",
    "    job=visa_df['full_time_position']==i\n",
    "    visa_df[job]\n",
    "    count.append(len(visa_df[job]))\n",
    "cont_df2=pd.DataFrame(zip(full_time,count),columns=['full_time_position','count'])\n",
    "cont_df2"
   ]
  },
  {
   "cell_type": "markdown",
   "id": "59ed8d4a-5082-4875-89c9-582af2e51996",
   "metadata": {},
   "source": [
    "**8.case_status**"
   ]
  },
  {
   "cell_type": "code",
   "execution_count": 28,
   "id": "fe410c6c-6359-4018-b213-7c452c0e2eef",
   "metadata": {},
   "outputs": [
    {
     "data": {
      "text/html": [
       "<div>\n",
       "<style scoped>\n",
       "    .dataframe tbody tr th:only-of-type {\n",
       "        vertical-align: middle;\n",
       "    }\n",
       "\n",
       "    .dataframe tbody tr th {\n",
       "        vertical-align: top;\n",
       "    }\n",
       "\n",
       "    .dataframe thead th {\n",
       "        text-align: right;\n",
       "    }\n",
       "</style>\n",
       "<table border=\"1\" class=\"dataframe\">\n",
       "  <thead>\n",
       "    <tr style=\"text-align: right;\">\n",
       "      <th></th>\n",
       "      <th>case_status</th>\n",
       "      <th>count</th>\n",
       "    </tr>\n",
       "  </thead>\n",
       "  <tbody>\n",
       "    <tr>\n",
       "      <th>0</th>\n",
       "      <td>Denied</td>\n",
       "      <td>8462</td>\n",
       "    </tr>\n",
       "    <tr>\n",
       "      <th>1</th>\n",
       "      <td>Certified</td>\n",
       "      <td>17018</td>\n",
       "    </tr>\n",
       "  </tbody>\n",
       "</table>\n",
       "</div>"
      ],
      "text/plain": [
       "  case_status  count\n",
       "0      Denied   8462\n",
       "1   Certified  17018"
      ]
     },
     "execution_count": 28,
     "metadata": {},
     "output_type": "execute_result"
    }
   ],
   "source": [
    "status=visa_df['case_status'].unique()\n",
    "count=[]\n",
    "for i in status:\n",
    "    visa_df['case_status']\n",
    "    job=visa_df['case_status']==i\n",
    "    visa_df[job]\n",
    "    count.append(len(visa_df[job]))\n",
    "cont_df2=pd.DataFrame(zip(status,count),columns=['case_status','count'])\n",
    "cont_df2"
   ]
  },
  {
   "cell_type": "markdown",
   "id": "11c5318a-dcdd-4f53-966e-6975aa1877b2",
   "metadata": {},
   "source": [
    "**Bar charts**\n",
    "\n",
    "- for categorical colmuns we need to represent two ways\n",
    "\n",
    "    - frequency table (tabular representstion)\n",
    " \n",
    "    - Bar chart (Graphical representation)\n",
    " \n",
    "- we know that bar chart have two axis\n",
    " \n",
    "    - X-axis:represent labels\n",
    "     \n",
    "    - y-axis:represent count\n",
    "     \n",
    "-  so in order to plot a bar chart first we need to make a frequency table\n",
    " \n",
    "-  hare we will create the frequency table , and immediately will draw the bar chart\n",
    " \n",
    "-  bar plot ia available in **matplotlib package** \n"
   ]
  },
  {
   "cell_type": "markdown",
   "id": "c6e7b96e-2b0e-49bb-ae24-08018d3f59d1",
   "metadata": {},
   "source": [
    "**continent column**"
   ]
  },
  {
   "cell_type": "code",
   "execution_count": 29,
   "id": "9dea74bc-8433-4117-8506-c7d92914262a",
   "metadata": {},
   "outputs": [
    {
     "data": {
      "text/html": [
       "<div>\n",
       "<style scoped>\n",
       "    .dataframe tbody tr th:only-of-type {\n",
       "        vertical-align: middle;\n",
       "    }\n",
       "\n",
       "    .dataframe tbody tr th {\n",
       "        vertical-align: top;\n",
       "    }\n",
       "\n",
       "    .dataframe thead th {\n",
       "        text-align: right;\n",
       "    }\n",
       "</style>\n",
       "<table border=\"1\" class=\"dataframe\">\n",
       "  <thead>\n",
       "    <tr style=\"text-align: right;\">\n",
       "      <th></th>\n",
       "      <th>lables</th>\n",
       "      <th>count</th>\n",
       "    </tr>\n",
       "  </thead>\n",
       "  <tbody>\n",
       "    <tr>\n",
       "      <th>0</th>\n",
       "      <td>Asia</td>\n",
       "      <td>16861</td>\n",
       "    </tr>\n",
       "    <tr>\n",
       "      <th>1</th>\n",
       "      <td>Europe</td>\n",
       "      <td>3732</td>\n",
       "    </tr>\n",
       "    <tr>\n",
       "      <th>2</th>\n",
       "      <td>North America</td>\n",
       "      <td>3292</td>\n",
       "    </tr>\n",
       "    <tr>\n",
       "      <th>3</th>\n",
       "      <td>South America</td>\n",
       "      <td>852</td>\n",
       "    </tr>\n",
       "    <tr>\n",
       "      <th>4</th>\n",
       "      <td>Africa</td>\n",
       "      <td>551</td>\n",
       "    </tr>\n",
       "    <tr>\n",
       "      <th>5</th>\n",
       "      <td>Oceania</td>\n",
       "      <td>192</td>\n",
       "    </tr>\n",
       "  </tbody>\n",
       "</table>\n",
       "</div>"
      ],
      "text/plain": [
       "          lables  count\n",
       "0           Asia  16861\n",
       "1         Europe   3732\n",
       "2  North America   3292\n",
       "3  South America    852\n",
       "4         Africa    551\n",
       "5        Oceania    192"
      ]
     },
     "execution_count": 29,
     "metadata": {},
     "output_type": "execute_result"
    }
   ],
   "source": [
    "data=visa_df['continent'].value_counts()\n",
    "keys=data.keys()\n",
    "values=data.values\n",
    "cols=['lables','count']\n",
    "df=pd.DataFrame(zip(keys,values),\n",
    "               columns=cols)\n",
    "df"
   ]
  },
  {
   "cell_type": "code",
   "execution_count": 30,
   "id": "f00da1f9-881d-4960-8381-e56ced923fb6",
   "metadata": {},
   "outputs": [
    {
     "data": {
      "text/html": [
       "<div>\n",
       "<style scoped>\n",
       "    .dataframe tbody tr th:only-of-type {\n",
       "        vertical-align: middle;\n",
       "    }\n",
       "\n",
       "    .dataframe tbody tr th {\n",
       "        vertical-align: top;\n",
       "    }\n",
       "\n",
       "    .dataframe thead th {\n",
       "        text-align: right;\n",
       "    }\n",
       "</style>\n",
       "<table border=\"1\" class=\"dataframe\">\n",
       "  <thead>\n",
       "    <tr style=\"text-align: right;\">\n",
       "      <th></th>\n",
       "      <th>case_id</th>\n",
       "      <th>continent</th>\n",
       "      <th>education_of_employee</th>\n",
       "      <th>has_job_experience</th>\n",
       "      <th>requires_job_training</th>\n",
       "      <th>no_of_employees</th>\n",
       "      <th>yr_of_estab</th>\n",
       "      <th>region_of_employment</th>\n",
       "      <th>prevailing_wage</th>\n",
       "      <th>unit_of_wage</th>\n",
       "      <th>full_time_position</th>\n",
       "      <th>case_status</th>\n",
       "    </tr>\n",
       "  </thead>\n",
       "  <tbody>\n",
       "    <tr>\n",
       "      <th>0</th>\n",
       "      <td>EZYV01</td>\n",
       "      <td>Asia</td>\n",
       "      <td>High School</td>\n",
       "      <td>N</td>\n",
       "      <td>N</td>\n",
       "      <td>14513</td>\n",
       "      <td>2007</td>\n",
       "      <td>West</td>\n",
       "      <td>592.2029</td>\n",
       "      <td>Hour</td>\n",
       "      <td>Y</td>\n",
       "      <td>Denied</td>\n",
       "    </tr>\n",
       "    <tr>\n",
       "      <th>1</th>\n",
       "      <td>EZYV02</td>\n",
       "      <td>Asia</td>\n",
       "      <td>Master's</td>\n",
       "      <td>Y</td>\n",
       "      <td>N</td>\n",
       "      <td>2412</td>\n",
       "      <td>2002</td>\n",
       "      <td>Northeast</td>\n",
       "      <td>83425.6500</td>\n",
       "      <td>Year</td>\n",
       "      <td>Y</td>\n",
       "      <td>Certified</td>\n",
       "    </tr>\n",
       "    <tr>\n",
       "      <th>2</th>\n",
       "      <td>EZYV03</td>\n",
       "      <td>Asia</td>\n",
       "      <td>Bachelor's</td>\n",
       "      <td>N</td>\n",
       "      <td>Y</td>\n",
       "      <td>44444</td>\n",
       "      <td>2008</td>\n",
       "      <td>West</td>\n",
       "      <td>122996.8600</td>\n",
       "      <td>Year</td>\n",
       "      <td>Y</td>\n",
       "      <td>Denied</td>\n",
       "    </tr>\n",
       "    <tr>\n",
       "      <th>3</th>\n",
       "      <td>EZYV04</td>\n",
       "      <td>Asia</td>\n",
       "      <td>Bachelor's</td>\n",
       "      <td>N</td>\n",
       "      <td>N</td>\n",
       "      <td>98</td>\n",
       "      <td>1897</td>\n",
       "      <td>West</td>\n",
       "      <td>83434.0300</td>\n",
       "      <td>Year</td>\n",
       "      <td>Y</td>\n",
       "      <td>Denied</td>\n",
       "    </tr>\n",
       "    <tr>\n",
       "      <th>4</th>\n",
       "      <td>EZYV05</td>\n",
       "      <td>Africa</td>\n",
       "      <td>Master's</td>\n",
       "      <td>Y</td>\n",
       "      <td>N</td>\n",
       "      <td>1082</td>\n",
       "      <td>2005</td>\n",
       "      <td>South</td>\n",
       "      <td>149907.3900</td>\n",
       "      <td>Year</td>\n",
       "      <td>Y</td>\n",
       "      <td>Certified</td>\n",
       "    </tr>\n",
       "    <tr>\n",
       "      <th>...</th>\n",
       "      <td>...</td>\n",
       "      <td>...</td>\n",
       "      <td>...</td>\n",
       "      <td>...</td>\n",
       "      <td>...</td>\n",
       "      <td>...</td>\n",
       "      <td>...</td>\n",
       "      <td>...</td>\n",
       "      <td>...</td>\n",
       "      <td>...</td>\n",
       "      <td>...</td>\n",
       "      <td>...</td>\n",
       "    </tr>\n",
       "    <tr>\n",
       "      <th>25475</th>\n",
       "      <td>EZYV25476</td>\n",
       "      <td>Asia</td>\n",
       "      <td>Bachelor's</td>\n",
       "      <td>Y</td>\n",
       "      <td>Y</td>\n",
       "      <td>2601</td>\n",
       "      <td>2008</td>\n",
       "      <td>South</td>\n",
       "      <td>77092.5700</td>\n",
       "      <td>Year</td>\n",
       "      <td>Y</td>\n",
       "      <td>Certified</td>\n",
       "    </tr>\n",
       "    <tr>\n",
       "      <th>25476</th>\n",
       "      <td>EZYV25477</td>\n",
       "      <td>Asia</td>\n",
       "      <td>High School</td>\n",
       "      <td>Y</td>\n",
       "      <td>N</td>\n",
       "      <td>3274</td>\n",
       "      <td>2006</td>\n",
       "      <td>Northeast</td>\n",
       "      <td>279174.7900</td>\n",
       "      <td>Year</td>\n",
       "      <td>Y</td>\n",
       "      <td>Certified</td>\n",
       "    </tr>\n",
       "    <tr>\n",
       "      <th>25477</th>\n",
       "      <td>EZYV25478</td>\n",
       "      <td>Asia</td>\n",
       "      <td>Master's</td>\n",
       "      <td>Y</td>\n",
       "      <td>N</td>\n",
       "      <td>1121</td>\n",
       "      <td>1910</td>\n",
       "      <td>South</td>\n",
       "      <td>146298.8500</td>\n",
       "      <td>Year</td>\n",
       "      <td>N</td>\n",
       "      <td>Certified</td>\n",
       "    </tr>\n",
       "    <tr>\n",
       "      <th>25478</th>\n",
       "      <td>EZYV25479</td>\n",
       "      <td>Asia</td>\n",
       "      <td>Master's</td>\n",
       "      <td>Y</td>\n",
       "      <td>Y</td>\n",
       "      <td>1918</td>\n",
       "      <td>1887</td>\n",
       "      <td>West</td>\n",
       "      <td>86154.7700</td>\n",
       "      <td>Year</td>\n",
       "      <td>Y</td>\n",
       "      <td>Certified</td>\n",
       "    </tr>\n",
       "    <tr>\n",
       "      <th>25479</th>\n",
       "      <td>EZYV25480</td>\n",
       "      <td>Asia</td>\n",
       "      <td>Bachelor's</td>\n",
       "      <td>Y</td>\n",
       "      <td>N</td>\n",
       "      <td>3195</td>\n",
       "      <td>1960</td>\n",
       "      <td>Midwest</td>\n",
       "      <td>70876.9100</td>\n",
       "      <td>Year</td>\n",
       "      <td>Y</td>\n",
       "      <td>Certified</td>\n",
       "    </tr>\n",
       "  </tbody>\n",
       "</table>\n",
       "<p>25480 rows × 12 columns</p>\n",
       "</div>"
      ],
      "text/plain": [
       "         case_id continent education_of_employee has_job_experience  \\\n",
       "0         EZYV01      Asia           High School                  N   \n",
       "1         EZYV02      Asia              Master's                  Y   \n",
       "2         EZYV03      Asia            Bachelor's                  N   \n",
       "3         EZYV04      Asia            Bachelor's                  N   \n",
       "4         EZYV05    Africa              Master's                  Y   \n",
       "...          ...       ...                   ...                ...   \n",
       "25475  EZYV25476      Asia            Bachelor's                  Y   \n",
       "25476  EZYV25477      Asia           High School                  Y   \n",
       "25477  EZYV25478      Asia              Master's                  Y   \n",
       "25478  EZYV25479      Asia              Master's                  Y   \n",
       "25479  EZYV25480      Asia            Bachelor's                  Y   \n",
       "\n",
       "      requires_job_training  no_of_employees  yr_of_estab  \\\n",
       "0                         N            14513         2007   \n",
       "1                         N             2412         2002   \n",
       "2                         Y            44444         2008   \n",
       "3                         N               98         1897   \n",
       "4                         N             1082         2005   \n",
       "...                     ...              ...          ...   \n",
       "25475                     Y             2601         2008   \n",
       "25476                     N             3274         2006   \n",
       "25477                     N             1121         1910   \n",
       "25478                     Y             1918         1887   \n",
       "25479                     N             3195         1960   \n",
       "\n",
       "      region_of_employment  prevailing_wage unit_of_wage full_time_position  \\\n",
       "0                     West         592.2029         Hour                  Y   \n",
       "1                Northeast       83425.6500         Year                  Y   \n",
       "2                     West      122996.8600         Year                  Y   \n",
       "3                     West       83434.0300         Year                  Y   \n",
       "4                    South      149907.3900         Year                  Y   \n",
       "...                    ...              ...          ...                ...   \n",
       "25475                South       77092.5700         Year                  Y   \n",
       "25476            Northeast      279174.7900         Year                  Y   \n",
       "25477                South      146298.8500         Year                  N   \n",
       "25478                 West       86154.7700         Year                  Y   \n",
       "25479              Midwest       70876.9100         Year                  Y   \n",
       "\n",
       "      case_status  \n",
       "0          Denied  \n",
       "1       Certified  \n",
       "2          Denied  \n",
       "3          Denied  \n",
       "4       Certified  \n",
       "...           ...  \n",
       "25475   Certified  \n",
       "25476   Certified  \n",
       "25477   Certified  \n",
       "25478   Certified  \n",
       "25479   Certified  \n",
       "\n",
       "[25480 rows x 12 columns]"
      ]
     },
     "execution_count": 30,
     "metadata": {},
     "output_type": "execute_result"
    }
   ],
   "source": [
    "import matplotlib.pyplot as plt\n",
    "import pandas as pd\n",
    "visa_df=pd.read_csv('Visadataset.csv')\n",
    "visa_df"
   ]
  },
  {
   "cell_type": "markdown",
   "id": "5c3f43da-86c7-4f4b-84cf-326a3e1c2790",
   "metadata": {},
   "source": [
    "**contnent columns**"
   ]
  },
  {
   "cell_type": "code",
   "execution_count": 31,
   "id": "b13bc789-30bd-42e7-ab79-5ceaa46fefe9",
   "metadata": {},
   "outputs": [
    {
     "data": {
      "text/html": [
       "<div>\n",
       "<style scoped>\n",
       "    .dataframe tbody tr th:only-of-type {\n",
       "        vertical-align: middle;\n",
       "    }\n",
       "\n",
       "    .dataframe tbody tr th {\n",
       "        vertical-align: top;\n",
       "    }\n",
       "\n",
       "    .dataframe thead th {\n",
       "        text-align: right;\n",
       "    }\n",
       "</style>\n",
       "<table border=\"1\" class=\"dataframe\">\n",
       "  <thead>\n",
       "    <tr style=\"text-align: right;\">\n",
       "      <th></th>\n",
       "      <th>labels</th>\n",
       "      <th>Count</th>\n",
       "    </tr>\n",
       "  </thead>\n",
       "  <tbody>\n",
       "    <tr>\n",
       "      <th>0</th>\n",
       "      <td>Asia</td>\n",
       "      <td>16861</td>\n",
       "    </tr>\n",
       "    <tr>\n",
       "      <th>1</th>\n",
       "      <td>Europe</td>\n",
       "      <td>3732</td>\n",
       "    </tr>\n",
       "    <tr>\n",
       "      <th>2</th>\n",
       "      <td>North America</td>\n",
       "      <td>3292</td>\n",
       "    </tr>\n",
       "    <tr>\n",
       "      <th>3</th>\n",
       "      <td>South America</td>\n",
       "      <td>852</td>\n",
       "    </tr>\n",
       "    <tr>\n",
       "      <th>4</th>\n",
       "      <td>Africa</td>\n",
       "      <td>551</td>\n",
       "    </tr>\n",
       "    <tr>\n",
       "      <th>5</th>\n",
       "      <td>Oceania</td>\n",
       "      <td>192</td>\n",
       "    </tr>\n",
       "  </tbody>\n",
       "</table>\n",
       "</div>"
      ],
      "text/plain": [
       "          labels  Count\n",
       "0           Asia  16861\n",
       "1         Europe   3732\n",
       "2  North America   3292\n",
       "3  South America    852\n",
       "4         Africa    551\n",
       "5        Oceania    192"
      ]
     },
     "execution_count": 31,
     "metadata": {},
     "output_type": "execute_result"
    }
   ],
   "source": [
    "data=visa_df['continent'].value_counts()\n",
    "keys=data.keys()\n",
    "values=data.values\n",
    "cols=['labels','Count']\n",
    "df=pd.DataFrame(zip(keys,values),columns=cols)\n",
    "df"
   ]
  },
  {
   "cell_type": "code",
   "execution_count": 13,
   "id": "efe66497-ed8e-48b8-85a2-e8bda718e354",
   "metadata": {},
   "outputs": [
    {
     "data": {
      "image/png": "[encoded data removed]",
      "text/plain": [
       "<Figure size 1000x500 with 1 Axes>"
      ]
     },
     "metadata": {},
     "output_type": "display_data"
    }
   ],
   "source": [
    "plt.figure(figsize=(10,5))                #(10,5) is the moderate size of the chart     \n",
    "plt.xlabel('Lable')                       # the label at X-axis\n",
    "plt.ylabel('count')                       # the label at Y-axis\n",
    "plt.title('Bar chart')                    # this is the title of the chart\n",
    "plt.bar(df['labels'],df['Count'])\n",
    "plt.savefig('Continent_bar_chart.png')    # savefig is used for saving the fig\n",
    "plt.savefig('Continent_bar_chart.jpg')    \n",
    "plt.show()                                # for showing the chart"
   ]
  },
  {
   "cell_type": "code",
   "execution_count": 35,
   "id": "a536a727-e08a-4186-9236-7754a9609f0f",
   "metadata": {},
   "outputs": [
    {
     "data": {
      "image/png": "[encoded data removed]",
      "text/plain": [
       "<Figure size 1000x500 with 1 Axes>"
      ]
     },
     "metadata": {},
     "output_type": "display_data"
    }
   ],
   "source": [
    "plt.figure(figsize=(10,5))\n",
    "plt.xlabel('lables')\n",
    "plt.ylabel('count')\n",
    "plt.title('bar chart')\n",
    "plt.savefig('continent_bar_chart.jpg')\n",
    "plt.savefig('continent_bar_chart.png')\n",
    "plt.bar(df['labels'],df['Count'])\n",
    "\n",
    "plt.show()"
   ]
  },
  {
   "cell_type": "markdown",
   "id": "186d8de0-3b03-4d40-8ef1-50c0089f17d9",
   "metadata": {},
   "source": [
    "**NOTE: plt.show always at last**"
   ]
  },
  {
   "cell_type": "markdown",
   "id": "416f40aa-c5b4-417e-87ec-8c613eeb0c8a",
   "metadata": {},
   "source": [
    "- step 1: we read the data\n",
    "\n",
    "- step 2:we take one cat columns\n",
    "\n",
    "- step 3:we created a frequency table\n",
    "\n",
    "- step 4: we plot the bar chart"
   ]
  },
  {
   "cell_type": "markdown",
   "id": "318fe811-aafb-4801-92dd-a7835ad7592c",
   "metadata": {},
   "source": [
    "**count plot**\n",
    "- count plot also same as bar chart\n",
    "\n",
    "- count plot under seaborn package\n",
    "\n",
    "- count plot does not require r=frequency table to plot bar chart\n",
    "\n",
    "- count plot need only column name and original dataframe name\n",
    "\n",
    "- assume that column name **continent**\n",
    "\n",
    "- Originam data frame name visa_df\n"
   ]
  },
  {
   "cell_type": "code",
   "execution_count": 14,
   "id": "c33dbc3a-9393-4045-a02d-d30a996639ea",
   "metadata": {},
   "outputs": [
    {
     "data": {
      "text/plain": [
       "Index(['Asia', 'Europe', 'North America', 'South America', 'Africa',\n",
       "       'Oceania'],\n",
       "      dtype='object', name='continent')"
      ]
     },
     "execution_count": 14,
     "metadata": {},
     "output_type": "execute_result"
    }
   ],
   "source": [
    "keys"
   ]
  },
  {
   "cell_type": "code",
   "execution_count": 39,
   "id": "c52431ba-d63f-4d56-ab38-b0e027cf8238",
   "metadata": {},
   "outputs": [
    {
     "data": {
      "image/png": "[encoded data removed]",
      "text/plain": [
       "<Figure size 640x480 with 1 Axes>"
      ]
     },
     "metadata": {},
     "output_type": "display_data"
    }
   ],
   "source": [
    "order=['asia','europe','north america','south america','africa','oceania']\n",
    "keys=visa_df['continent'].value_counts().keys()\n",
    "sns.countplot(data=visa_df,\n",
    "             x='continent',\n",
    "             order=keys)\n",
    "\n",
    "plt.title('countplot')\n",
    "plt.savefig('continent_count_plot_jpg')\n",
    "plt.show()\n",
    "# count plot by default will give alfhabetical order "
   ]
  },
  {
   "cell_type": "code",
   "execution_count": null,
   "id": "f5dc7c9a-bc1a-42bb-9138-e59b1b71fdd4",
   "metadata": {},
   "outputs": [],
   "source": [
    "######################################### 03-09-2024 ####################################################"
   ]
  },
  {
   "cell_type": "markdown",
   "id": "2496a559-5f04-4c1f-9db5-d401331d7246",
   "metadata": {},
   "source": [
    "**subplots**\n",
    "\n",
    "- if you want to see many plots of each columns, genara;;y we will do for loop\n",
    "\n",
    "- when you use for loop  the representation is one by one, it is hard to visualize\n",
    " \n",
    "- subplot is matrix plot of visualization\n",
    "\n",
    "- if i mention(2,2) means 2 rows and 2 volumns,total value 4\n",
    "  \n",
    "- means total 4 plots we can plot\n",
    "\n",
    "- the first plot represent as (2,2,1)\n",
    "\n",
    "- the second plot represent as(2,2,2)\n",
    "  \n",
    "- the third plot represent as(2,2,3)\n",
    "  \n",
    "- the fourth plot represent as(2,2,4)\n",
    "\n",
    "\n",
    "\n",
    "                                                       \n"
   ]
  },
  {
   "cell_type": "code",
   "execution_count": 4,
   "id": "2a9adaab-084d-422c-94de-597b3e5ecb02",
   "metadata": {},
   "outputs": [
    {
     "data": {
      "text/plain": [
       "<Axes: >"
      ]
     },
     "execution_count": 4,
     "metadata": {},
     "output_type": "execute_result"
    },
    {
     "data": {
      "image/png": "[encoded data removed]",
      "text/plain": [
       "<Figure size 640x480 with 4 Axes>"
      ]
     },
     "metadata": {},
     "output_type": "display_data"
    }
   ],
   "source": [
    "import matplotlib.pyplot as plt\n",
    "plt.subplot(2,2,1)\n",
    "plt.subplot(2,2,2)\n",
    "plt.subplot(2,2,3)\n",
    "plt.subplot(2,2,4)"
   ]
  },
  {
   "cell_type": "code",
   "execution_count": 6,
   "id": "128cd9b3-2bcf-44ad-9e3a-87cc104d89a3",
   "metadata": {},
   "outputs": [
    {
     "data": {
      "image/png": "[encoded data removed]",
      "text/plain": [
       "<Figure size 640x480 with 9 Axes>"
      ]
     },
     "metadata": {},
     "output_type": "display_data"
    }
   ],
   "source": [
    "for i in range(1,10):\n",
    "    plt.subplot(3,3,i)"
   ]
  },
  {
   "cell_type": "code",
   "execution_count": 40,
   "id": "9a1a0c88-ee2f-4224-9925-bc2a6ad6213d",
   "metadata": {},
   "outputs": [
    {
     "data": {
      "text/plain": [
       "Text(0.5, 1.0, 'continent_countplot')"
      ]
     },
     "execution_count": 40,
     "metadata": {},
     "output_type": "execute_result"
    },
    {
     "data": {
      "image/png": "[encoded data removed]",
      "text/plain": [
       "<Figure size 640x480 with 1 Axes>"
      ]
     },
     "metadata": {},
     "output_type": "display_data"
    }
   ],
   "source": [
    "keys=visa_df['continent'].value_counts().keys()\n",
    "plt.subplot(2,2,1)\n",
    "sns.countplot(data=visa_df,x='continent',order=keys)\n",
    "plt.title('continent_countplot')"
   ]
  },
  {
   "cell_type": "code",
   "execution_count": 42,
   "id": "b35aca71-0780-4f7d-8cc0-42c3057741ef",
   "metadata": {},
   "outputs": [
    {
     "data": {
      "text/plain": [
       "Text(0.5, 1.0, 'case_status_countplot')"
      ]
     },
     "execution_count": 42,
     "metadata": {},
     "output_type": "execute_result"
    },
    {
     "data": {
      "image/png": "[encoded data removed]",
      "text/plain": [
       "<Figure size 640x480 with 1 Axes>"
      ]
     },
     "metadata": {},
     "output_type": "display_data"
    }
   ],
   "source": [
    "keys=visa_df['case_status'].value_counts().keys()\n",
    "plt.subplot(2,2,1)\n",
    "sns.countplot(data=visa_df,x='case_status',order=keys)\n",
    "plt.title('case_status_countplot')"
   ]
  },
  {
   "cell_type": "code",
   "execution_count": 43,
   "id": "bcfd00a7-0c06-4a77-a3d5-8b7273776977",
   "metadata": {},
   "outputs": [
    {
     "data": {
      "image/png": "[encoded data removed]",
      "text/plain": [
       "<Figure size 1600x1600 with 7 Axes>"
      ]
     },
     "metadata": {},
     "output_type": "display_data"
    }
   ],
   "source": [
    "cols=cat_cols[1:]\n",
    "plt.figure(figsize=(16,16))\n",
    "for i in range(1,len(cols)):\n",
    "    keys=visa_df[cols[i]].value_counts().keys()\n",
    "    plt.subplot(3,3,i)\n",
    "    sns.countplot(data=visa_df,x=cols[i],order=keys)\n",
    "    plt.title(f'continent_{cols[i]}')"
   ]
  },
  {
   "cell_type": "markdown",
   "id": "016597a6-e780-4e26-b462-bad21b8b744b",
   "metadata": {},
   "source": [
    "**Method 1**\n",
    "\n",
    "- we draw the bar chart using\n",
    "- \n",
    "- but bar chart required frequency table first\n",
    "\n",
    "**Method 2**\n",
    "\n",
    "- we draw the countplots using seaborn\n",
    "- \n",
    "- countplot requires directly column name and main dataframe name\n",
    "\n",
    "**Method 3**\n",
    "\n",
    "- we can also draw a plot using value counts\n",
    "- \n",
    "- we can provide the count numbers on bar also\n"
   ]
  },
  {
   "cell_type": "markdown",
   "id": "84a76ab8-7a7f-439c-a3bd-758a6f4bda25",
   "metadata": {},
   "source": [
    "**Method-3**\n",
    "\n",
    "- take continent column\n",
    "\n",
    "- Apply value counts\n",
    "\n",
    "- save in a veriable\n",
    "\n",
    "- veriable.plot(kind='bar')\n",
    "\n",
    "- keep above line in a variable name as **ax**\n",
    "    \n",
    "- ax.bar_lable(ax.containers[0])"
   ]
  },
  {
   "cell_type": "code",
   "execution_count": 46,
   "id": "7d61d727-fb40-4c4e-9fe6-62904054dbcc",
   "metadata": {},
   "outputs": [
    {
     "data": {
      "image/png": "[encoded data removed]",
      "text/plain": [
       "<Figure size 640x480 with 1 Axes>"
      ]
     },
     "metadata": {},
     "output_type": "display_data"
    }
   ],
   "source": [
    "cont=visa_df['continent'].value_counts()\n",
    "ax=cont.plot(kind='bar')\n",
    "ax.bar_label(ax.containers[0])\n",
    "plt.show()"
   ]
  },
  {
   "cell_type": "markdown",
   "id": "8d8abf38-2847-4127-9122-14b6c45aaf67",
   "metadata": {},
   "source": [
    "**pie chart**\n",
    "\n",
    "- pie chart is the 360 degree representation\n",
    "\n",
    "- how much percentsge of area occupied by each lable\n",
    "\n",
    "- it is under **matplotlib**\n",
    "\n",
    "- it is required main two things\n",
    "    -  value\n",
    " \n",
    "    -  keys as lables\n",
    " \n",
    "- both you can get from value_count\n"
   ]
  },
  {
   "cell_type": "code",
   "execution_count": 48,
   "id": "7d8d9c9f-573b-4f93-b00d-114e13673696",
   "metadata": {},
   "outputs": [
    {
     "data": {
      "text/plain": [
       "continent\n",
       "Asia             0.661735\n",
       "Europe           0.146468\n",
       "North America    0.129199\n",
       "South America    0.033438\n",
       "Africa           0.021625\n",
       "Oceania          0.007535\n",
       "Name: proportion, dtype: float64"
      ]
     },
     "execution_count": 48,
     "metadata": {},
     "output_type": "execute_result"
    }
   ],
   "source": [
    "visa_df['continent'].value_counts(normalize=True)"
   ]
  },
  {
   "cell_type": "code",
   "execution_count": 49,
   "id": "d87f567a-db7b-4cad-9d29-8abb3a5ccc42",
   "metadata": {},
   "outputs": [],
   "source": [
    "keys=visa_df['continent'].value_counts().keys()\n",
    "values=visa_df['continent'].value_counts().values"
   ]
  },
  {
   "cell_type": "code",
   "execution_count": 50,
   "id": "81126b53-3cea-44f7-89a7-8ae46e074bbf",
   "metadata": {},
   "outputs": [
    {
     "data": {
      "image/png": "[encoded data removed]",
      "text/plain": [
       "<Figure size 640x480 with 1 Axes>"
      ]
     },
     "metadata": {},
     "output_type": "display_data"
    }
   ],
   "source": [
    "plt.pie(values,\n",
    "        explode=[0.1,0.1,0.1,0.1,0.1,0.1],\n",
    "        labels=keys,\n",
    "        autopct=\"%0.2f%%\",\n",
    "        startangle=180,\n",
    "        radius=1)\n",
    "plt.show()"
   ]
  },
  {
   "cell_type": "code",
   "execution_count": null,
   "id": "d678b9aa-5e32-4e6f-947d-fcac9cc69857",
   "metadata": {},
   "outputs": [],
   "source": [
    "########################################## 4-09-2024 ####################################################33"
   ]
  },
  {
   "cell_type": "code",
   "execution_count": 25,
   "id": "23261667-90c9-4d36-897a-ca0bd8ee478d",
   "metadata": {},
   "outputs": [],
   "source": [
    "import pandas as pd\n"
   ]
  },
  {
   "cell_type": "code",
   "execution_count": 26,
   "id": "935abfa9-5204-4a3d-bd5f-c627c9dd677d",
   "metadata": {},
   "outputs": [],
   "source": [
    "visa_df=pd.read_csv('Visadataset.csv')"
   ]
  },
  {
   "cell_type": "code",
   "execution_count": 27,
   "id": "e8332538-cf69-498d-8d8d-7ace5329f675",
   "metadata": {},
   "outputs": [],
   "source": [
    "cat_col = visa_df.select_dtypes(include='object').columns\n",
    "num_cols = visa_df.select_dtypes(exclude='object').columns                    "
   ]
  },
  {
   "cell_type": "code",
   "execution_count": 28,
   "id": "e038ffc9-757a-42fa-b325-74675ce298a4",
   "metadata": {},
   "outputs": [
    {
     "data": {
      "text/plain": [
       "Index(['no_of_employees', 'yr_of_estab', 'prevailing_wage'], dtype='object')"
      ]
     },
     "execution_count": 28,
     "metadata": {},
     "output_type": "execute_result"
    }
   ],
   "source": [
    "num_cols"
   ]
  },
  {
   "cell_type": "markdown",
   "id": "b660b41a-909b-409d-949c-8f508cff5646",
   "metadata": {},
   "source": [
    "**privailiging _wage**"
   ]
  },
  {
   "cell_type": "markdown",
   "id": "7c249d4a-4d5c-413c-9d56-765d92cf4d74",
   "metadata": {},
   "source": [
    "- std\n",
    "\n",
    "- 25p\n",
    "\n",
    "- 50p\n",
    "\n"
   ]
  },
  {
   "cell_type": "code",
   "execution_count": null,
   "id": "c80d19c8-ba33-4535-a0be-96d744b7be3b",
   "metadata": {},
   "outputs": [],
   "source": []
  },
  {
   "cell_type": "code",
   "execution_count": 29,
   "id": "8959f539-e961-4a63-b8f6-57ec0c4c05e0",
   "metadata": {},
   "outputs": [],
   "source": [
    "p_wage=visa_df.prevailing_wage"
   ]
  },
  {
   "cell_type": "code",
   "execution_count": 30,
   "id": "40ba39d0-ebd9-4b76-9200-ed141bfcbf1f",
   "metadata": {},
   "outputs": [],
   "source": [
    "wage_count=len(p_wage)\n"
   ]
  },
  {
   "cell_type": "code",
   "execution_count": 31,
   "id": "b25cc984-d25d-4cf5-830f-0709e932509a",
   "metadata": {},
   "outputs": [
    {
     "data": {
      "text/plain": [
       "0           592.2029\n",
       "1         83425.6500\n",
       "2        122996.8600\n",
       "3         83434.0300\n",
       "4        149907.3900\n",
       "            ...     \n",
       "25475     77092.5700\n",
       "25476    279174.7900\n",
       "25477    146298.8500\n",
       "25478     86154.7700\n",
       "25479     70876.9100\n",
       "Name: prevailing_wage, Length: 25480, dtype: float64"
      ]
     },
     "execution_count": 31,
     "metadata": {},
     "output_type": "execute_result"
    }
   ],
   "source": [
    "p_wage"
   ]
  },
  {
   "cell_type": "code",
   "execution_count": 32,
   "id": "b546db23-2086-4bba-83bb-50905509e1b4",
   "metadata": {},
   "outputs": [
    {
     "data": {
      "text/plain": [
       "2.1367"
      ]
     },
     "execution_count": 32,
     "metadata": {},
     "output_type": "execute_result"
    }
   ],
   "source": [
    "p_wage.min()"
   ]
  },
  {
   "cell_type": "code",
   "execution_count": 33,
   "id": "c946a4dd-06f2-4d60-ae40-efdf18272d76",
   "metadata": {},
   "outputs": [
    {
     "ename": "NameError",
     "evalue": "name 'np' is not defined",
     "output_type": "error",
     "traceback": [
      "\u001b[1;31m---------------------------------------------------------------------------\u001b[0m",
      "\u001b[1;31mNameError\u001b[0m                                 Traceback (most recent call last)",
      "Cell \u001b[1;32mIn[33], line 1\u001b[0m\n\u001b[1;32m----> 1\u001b[0m np\u001b[38;5;241m.\u001b[39mmin(p_wage)\n",
      "\u001b[1;31mNameError\u001b[0m: name 'np' is not defined"
     ]
    }
   ],
   "source": [
    "np.min(p_wage)"
   ]
  },
  {
   "cell_type": "code",
   "execution_count": 22,
   "id": "03adc25e-7f1b-4f4f-a7d3-174289b00c3d",
   "metadata": {},
   "outputs": [
    {
     "ename": "NameError",
     "evalue": "name 'np' is not defined",
     "output_type": "error",
     "traceback": [
      "\u001b[1;31m---------------------------------------------------------------------------\u001b[0m",
      "\u001b[1;31mNameError\u001b[0m                                 Traceback (most recent call last)",
      "Cell \u001b[1;32mIn[22], line 3\u001b[0m\n\u001b[0;32m      1\u001b[0m \u001b[38;5;28mmin\u001b[39m(p_wage) \u001b[38;5;66;03m# in built\u001b[39;00m\n\u001b[0;32m      2\u001b[0m p_wage\u001b[38;5;241m.\u001b[39mmin \u001b[38;5;66;03m# series min\u001b[39;00m\n\u001b[1;32m----> 3\u001b[0m np\u001b[38;5;241m.\u001b[39mmin(p_wage)\n",
      "\u001b[1;31mNameError\u001b[0m: name 'np' is not defined"
     ]
    }
   ],
   "source": [
    "min(p_wage) # in built\n",
    "p_wage.min # series min\n",
    "np.min(p_wage) # numpy"
   ]
  },
  {
   "cell_type": "code",
   "execution_count": 20,
   "id": "a25d1e35-04c8-4fb4-b9bc-04855a00fc2d",
   "metadata": {},
   "outputs": [
    {
     "ename": "NameError",
     "evalue": "name 'np' is not defined",
     "output_type": "error",
     "traceback": [
      "\u001b[1;31m---------------------------------------------------------------------------\u001b[0m",
      "\u001b[1;31mNameError\u001b[0m                                 Traceback (most recent call last)",
      "Cell \u001b[1;32mIn[20], line 4\u001b[0m\n\u001b[0;32m      2\u001b[0m wage_min\u001b[38;5;241m=\u001b[39m\u001b[38;5;28mmin\u001b[39m(p_wage)\n\u001b[0;32m      3\u001b[0m \u001b[38;5;66;03m# wage_max(p_wage)\u001b[39;00m\n\u001b[1;32m----> 4\u001b[0m wage_mean\u001b[38;5;241m=\u001b[39m\u001b[38;5;28mround\u001b[39m(np\u001b[38;5;241m.\u001b[39mmean(p_wage),\u001b[38;5;241m2\u001b[39m)\n\u001b[0;32m      5\u001b[0m wage_median\u001b[38;5;241m=\u001b[39m\u001b[38;5;28mround\u001b[39m(np\u001b[38;5;241m.\u001b[39mmedian(p_wage),\u001b[38;5;241m2\u001b[39m)\n\u001b[0;32m      6\u001b[0m \u001b[38;5;28mprint\u001b[39m(\u001b[38;5;124m'\u001b[39m\u001b[38;5;124m'\u001b[39m)\n",
      "\u001b[1;31mNameError\u001b[0m: name 'np' is not defined"
     ]
    }
   ],
   "source": [
    "wage_count = len(p_wage)\n",
    "wage_min=min(p_wage)\n",
    "# wage_max(p_wage)\n",
    "wage_mean=round(np.mean(p_wage),2)\n",
    "wage_median=round(np.median(p_wage),2)\n",
    "   "
   ]
  },
  {
   "cell_type": "markdown",
   "id": "d1903ae9-68d8-48e1-9fb3-f9a42bc176fb",
   "metadata": {},
   "source": [
    "**25p**\n",
    "\n",
    "  - q1\n",
    "\n",
    "  - 25 percentage of data has less then that particular point(25p point)"
   ]
  },
  {
   "cell_type": "code",
   "execution_count": null,
   "id": "4e924594-ebdc-4fdb-a1de-bfbc53b3d42f",
   "metadata": {},
   "outputs": [],
   "source": [
    "p_25=np.percentile(p_wage,q=25)\n",
    "p_25"
   ]
  },
  {
   "cell_type": "code",
   "execution_count": null,
   "id": "15c9c989-40a1-4bca-be78-463c7ea8f129",
   "metadata": {},
   "outputs": [],
   "source": [
    "p_25=np.quantile(p_wage,q=0.25)       # range must  be in the range between  0 to 1\n",
    "p_25"
   ]
  },
  {
   "cell_type": "code",
   "execution_count": null,
   "id": "709257ee-6374-49f7-b48e-a605121303b4",
   "metadata": {},
   "outputs": [],
   "source": [
    "# 6370 employee has less then that 34015.47\n",
    "con=p_wage<p_25\n",
    "len(p_wage[con])"
   ]
  },
  {
   "cell_type": "code",
   "execution_count": null,
   "id": "65ce4ab4-ce1b-41fe-9f2c-a7a5f08a6f71",
   "metadata": {},
   "outputs": [],
   "source": [
    "p_25 np.percentile(p_wage,q=25)\n",
    "con=p_wage<p_25\n",
    "len(p_wage[con])\n",
    "#25*25480/100"
   ]
  },
  {
   "cell_type": "code",
   "execution_count": null,
   "id": "9af51e1f-9eac-4c96-87e6-b8112b52ff8b",
   "metadata": {},
   "outputs": [],
   "source": [
    "p_50 np.percentile(p_wage,q=50)\n",
    "con=p_wage<p_50\n",
    "len(p_wage[con])\n"
   ]
  },
  {
   "cell_type": "code",
   "execution_count": null,
   "id": "4d080511-863c-43c5-aa34-cd590b19d896",
   "metadata": {},
   "outputs": [],
   "source": [
    "p_75 np.percentile(p_wage,q=75)\n",
    "con=p_wage<p_75\n",
    "len(p_wage[con])\n"
   ]
  },
  {
   "cell_type": "code",
   "execution_count": null,
   "id": "994fa7ce-7c0d-41bf-a3ac-30b699f3a6ec",
   "metadata": {},
   "outputs": [],
   "source": [
    "wage_count=len(p_wage)\n",
    "wage_min=min(p_max)\n",
    "wage_max=max((p_wage)\n",
    "wage_mean=round(np.mean(p_wage),2)\n",
    "wage_median=round(np.median(p_wage)2)\n",
    "p_wage_p_25=round(np.percentile(p_wage,q=25),2)\n",
    "p_wage_p_75=round(np.percentile(p_wage,q=75))\n",
    "values=[age_count,wage_min,wage_mean,wage_median,wage_p_25,wage_p_75,wage_max]\n",
    "index=['count','min','max','mean','25p','75p',',max']\n",
    "wage_df=pd.DataFrame(values,columns=['prevailing_wage'],index=index)\n",
    "\n",
    "                  "
   ]
  },
  {
   "cell_type": "code",
   "execution_count": null,
   "id": "1b522ce2-53c0-4571-b973-55bbf1e57dae",
   "metadata": {},
   "outputs": [],
   "source": [
    "l1,l2,l3=[],[],[]\n",
    "df.DataFrame()\n",
    "for i in num_cols:\n",
    "    data=visa_Df[i]\n",
    "    data=len(data)\n",
    "    wage_min=min(data)\n",
    "    wage_max=max((p_wage)\n",
    "    wage_mean=round(np.mean(p_wage),2)\n",
    "    wage_median=round(np.median(p_wage)2)\n",
    "    p_wage_p_25=round(np.percentile(p_wage,q=25),2)\n",
    "    p_wage_p_75=round(np.percentile(p_wage,q=75))\n",
    "    values=[age_count,wage_min,wage_mean,wage_median,wage_p_25,wage_p_75,wage_max]\n",
    "    index=['count','min','max','mean','25p','75p',',max']\n",
    "    wage_df=pd.DataFrame(values,columns=['prevailing_wage'],index=index)\n",
    "\n",
    "\n",
    "    data visa_df[i]\n",
    "    count=len(data)\n",
    "    minn=np.min(data)\n",
    "    maxx=np.max(data)\n",
    "    mean=round(np.mean(data),2\n",
    "    median=round(np."
   ]
  }
 ],
 "metadata": {
  "kernelspec": {
   "display_name": "Python 3 (ipykernel)",
   "language": "python",
   "name": "python3"
  },
  "language_info": {
   "codemirror_mode": {
    "name": "ipython",
    "version": 3
   },
   "file_extension": ".py",
   "mimetype": "text/x-python",
   "name": "python",
   "nbconvert_exporter": "python",
   "pygments_lexer": "ipython3",
   "version": "3.12.4"
  }
 },
 "nbformat": 4,
 "nbformat_minor": 5
}
