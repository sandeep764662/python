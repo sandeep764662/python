{
 "cells": [
  {
   "cell_type": "code",
   "execution_count": 1,
   "id": "1dc53dbc-55ac-4a24-a449-1fe49f6f6978",
   "metadata": {},
   "outputs": [],
   "source": [
    "# Create the frquency tables\n",
    "# Import the packages\n",
    "# Read the data\n",
    "# cat and numerical columns\n",
    "import numpy as np\n",
    "import pandas as pd\n",
    "import matplotlib.pyplot as plt\n",
    "import seaborn as sns\n",
    "visa_df=pd.read_csv('Visadataset.csv')\n",
    "cat_cols=visa_df.select_dtypes(include='object').columns\n",
    "num_cols=visa_df.select_dtypes(exclude='object').columns"
   ]
  },
  {
   "cell_type": "code",
   "execution_count": 2,
   "id": "16698431-6b5d-4763-b9dd-4e5ce9eb0d3b",
   "metadata": {},
   "outputs": [
    {
     "data": {
      "text/plain": [
       "Index(['no_of_employees', 'yr_of_estab', 'prevailing_wage'], dtype='object')"
      ]
     },
     "execution_count": 2,
     "metadata": {},
     "output_type": "execute_result"
    }
   ],
   "source": [
    "num_cols"
   ]
  },
  {
   "cell_type": "markdown",
   "id": "56c17405-40fa-4f11-93b0-1f78b8cd270e",
   "metadata": {},
   "source": [
    "**prevailing_wage**"
   ]
  },
  {
   "cell_type": "code",
   "execution_count": 3,
   "id": "18151f85-9db7-4525-bc24-b5d16e0fe010",
   "metadata": {},
   "outputs": [
    {
     "data": {
      "text/plain": [
       "0           592.2029\n",
       "1         83425.6500\n",
       "2        122996.8600\n",
       "3         83434.0300\n",
       "4        149907.3900\n",
       "            ...     \n",
       "25475     77092.5700\n",
       "25476    279174.7900\n",
       "25477    146298.8500\n",
       "25478     86154.7700\n",
       "25479     70876.9100\n",
       "Name: prevailing_wage, Length: 25480, dtype: float64"
      ]
     },
     "execution_count": 3,
     "metadata": {},
     "output_type": "execute_result"
    }
   ],
   "source": [
    "p_wage=visa_df['prevailing_wage']\n",
    "p_wage"
   ]
  },
  {
   "cell_type": "markdown",
   "id": "622e953f-25a5-45c9-931f-552b971c29d1",
   "metadata": {},
   "source": [
    "- count\n",
    "\n",
    "- min\n",
    "\n",
    "- mean\n",
    "\n",
    "- median\n",
    "\n",
    "- std\n",
    "\n",
    "- 25p\n",
    "\n",
    "- 50p\n",
    "\n",
    "- 75p\n",
    "\n",
    "- max"
   ]
  },
  {
   "cell_type": "code",
   "execution_count": 4,
   "id": "0d3f7f6b-a1bd-4def-a69f-f21473481c35",
   "metadata": {},
   "outputs": [
    {
     "data": {
      "text/plain": [
       "25480"
      ]
     },
     "execution_count": 4,
     "metadata": {},
     "output_type": "execute_result"
    }
   ],
   "source": [
    "wage_count=len(p_wage)\n",
    "wage_count"
   ]
  },
  {
   "cell_type": "code",
   "execution_count": 5,
   "id": "0a0cbdf0-1094-4533-bc2a-f7cabdb7bb92",
   "metadata": {},
   "outputs": [
    {
     "data": {
      "text/plain": [
       "2.1367"
      ]
     },
     "execution_count": 5,
     "metadata": {},
     "output_type": "execute_result"
    }
   ],
   "source": [
    "wage_min=min(p_wage)\n",
    "wage_min"
   ]
  },
  {
   "cell_type": "code",
   "execution_count": 6,
   "id": "6974269f-217d-457a-b3ed-eed8f5920951",
   "metadata": {},
   "outputs": [
    {
     "data": {
      "text/plain": [
       "2.1367"
      ]
     },
     "execution_count": 6,
     "metadata": {},
     "output_type": "execute_result"
    }
   ],
   "source": [
    "p_wage.min()"
   ]
  },
  {
   "cell_type": "code",
   "execution_count": 7,
   "id": "7a09ea0b-620b-457e-b261-f6d84f8d6d48",
   "metadata": {},
   "outputs": [
    {
     "data": {
      "text/plain": [
       "2.1367"
      ]
     },
     "execution_count": 7,
     "metadata": {},
     "output_type": "execute_result"
    }
   ],
   "source": [
    "np.min(p_wage)"
   ]
  },
  {
   "cell_type": "markdown",
   "id": "aefa0135-ce72-4d81-b861-62696ab0aa85",
   "metadata": {},
   "source": [
    "min(p_wage) #in built\n",
    "p_wage.min() # series min\n",
    "np.min(p_wage) # numpy"
   ]
  },
  {
   "cell_type": "code",
   "execution_count": 9,
   "id": "d6edc209-8a31-4a18-ba87-08da1ca68662",
   "metadata": {},
   "outputs": [],
   "source": [
    "wage_count=len(p_wage)\n",
    "wage_min=min(p_wage)\n",
    "wage_max=max(p_wage)\n",
    "wage_mean=round(np.mean(p_wage),2)\n",
    "wage_median=round(np.median(p_wage),2)"
   ]
  },
  {
   "cell_type": "markdown",
   "id": "4d91285d-6922-4c0c-825a-7349edffaeff",
   "metadata": {},
   "source": [
    "**25p**\n",
    "\r",
    "- q1\n",
    " \r",
    "- \n",
    "25 percentage of data has less than that partcular point(25p poin"
   ]
  },
  {
   "cell_type": "code",
   "execution_count": 10,
   "id": "96e1f491-fd38-4809-be61-fcad67a13260",
   "metadata": {},
   "outputs": [
    {
     "data": {
      "text/plain": [
       "34015.479999999996"
      ]
     },
     "execution_count": 10,
     "metadata": {},
     "output_type": "execute_result"
    }
   ],
   "source": [
    "p_25=np.percentile(p_wage,q=25)\r\n",
    "p_25"
   ]
  },
  {
   "cell_type": "code",
   "execution_count": 11,
   "id": "00fb9d71-2a35-4ecc-abc5-b6f74b22d78d",
   "metadata": {},
   "outputs": [
    {
     "data": {
      "text/plain": [
       "34015.479999999996"
      ]
     },
     "execution_count": 11,
     "metadata": {},
     "output_type": "execute_result"
    }
   ],
   "source": [
    "p_25=np.quantile(p_wage,q=0.25)\n",
    "p_25"
   ]
  },
  {
   "cell_type": "code",
   "execution_count": 12,
   "id": "68a681c0-f867-419b-9eb7-80d7f66c3c08",
   "metadata": {},
   "outputs": [],
   "source": [
    "#25 percentage of data has less than that 34015.47"
   ]
  },
  {
   "cell_type": "code",
   "execution_count": 13,
   "id": "9c14ff5a-501c-475e-b1a4-ee64c41a2409",
   "metadata": {},
   "outputs": [
    {
     "data": {
      "text/plain": [
       "6370.0"
      ]
     },
     "execution_count": 13,
     "metadata": {},
     "output_type": "execute_result"
    }
   ],
   "source": [
    "25*25480/100"
   ]
  },
  {
   "cell_type": "code",
   "execution_count": 14,
   "id": "52c6250e-c405-44be-aaa8-69aed8a29068",
   "metadata": {},
   "outputs": [
    {
     "data": {
      "text/plain": [
       "6370"
      ]
     },
     "execution_count": 14,
     "metadata": {},
     "output_type": "execute_result"
    }
   ],
   "source": [
    "#6370 employees has less than that 34015.47\n",
    "con=p_wage<p_25\n",
    "len(p_wage[con])"
   ]
  },
  {
   "cell_type": "code",
   "execution_count": 15,
   "id": "aad36b37-9ba7-4b9d-946c-f130555b3df1",
   "metadata": {},
   "outputs": [
    {
     "data": {
      "text/plain": [
       "6370"
      ]
     },
     "execution_count": 15,
     "metadata": {},
     "output_type": "execute_result"
    }
   ],
   "source": [
    "p_25=np.percentile(p_wage,q=25)\n",
    "con=p_wage<p_25\n",
    "len(p_wage[con])\n",
    "# 25*25480/100"
   ]
  },
  {
   "cell_type": "code",
   "execution_count": 16,
   "id": "a37a131f-9347-4ecb-b425-b163653d0414",
   "metadata": {},
   "outputs": [
    {
     "data": {
      "text/plain": [
       "(12740, 70308.20999999999)"
      ]
     },
     "execution_count": 16,
     "metadata": {},
     "output_type": "execute_result"
    }
   ],
   "source": [
    "p_50=np.percentile(p_wage,q=50)\n",
    "con=p_wage<p_50\n",
    "len(p_wage[con]), p_50"
   ]
  },
  {
   "cell_type": "code",
   "execution_count": 17,
   "id": "f637bf60-2665-4694-aa5a-e618cd2cfd3b",
   "metadata": {},
   "outputs": [
    {
     "data": {
      "text/plain": [
       "19110"
      ]
     },
     "execution_count": 17,
     "metadata": {},
     "output_type": "execute_result"
    }
   ],
   "source": [
    "p_75=np.percentile(p_wage,q=75)\n",
    "con=p_wage<p_75\n",
    "len(p_wage[con])"
   ]
  },
  {
   "cell_type": "code",
   "execution_count": 18,
   "id": "25dc048c-3246-46aa-a9d9-72f847d9d37e",
   "metadata": {},
   "outputs": [],
   "source": [
    "p_wage=visa_df['prevailing_wage']\n",
    "wage_count=len(p_wage)\n",
    "wage_min=min(p_wage)\n",
    "wage_max=max(p_wage)\n",
    "wage_mean=round(np.mean(p_wage),2)\n",
    "wage_median=round(np.median(p_wage),2)\n",
    "wage_p_25=round(np.percentile(p_wage,q=25),2)\n",
    "wage_p_75=round(np.percentile(p_wage,q=75))\n",
    "values=[wage_count,wage_min,wage_mean,wage_median,wage_p_25,wage_p_75,wage_max]\n",
    "index=['count','min','mean','median','25p','75p','max']\n",
    "wage_df=pd.DataFrame(values,columns=['prevailing_wage'],index=index)"
   ]
  },
  {
   "cell_type": "code",
   "execution_count": 20,
   "id": "8f3db971-c9c0-4353-9c3b-a7366021be02",
   "metadata": {},
   "outputs": [
    {
     "data": {
      "text/html": [
       "<div>\n",
       "<style scoped>\n",
       "    .dataframe tbody tr th:only-of-type {\n",
       "        vertical-align: middle;\n",
       "    }\n",
       "\n",
       "    .dataframe tbody tr th {\n",
       "        vertical-align: top;\n",
       "    }\n",
       "\n",
       "    .dataframe thead th {\n",
       "        text-align: right;\n",
       "    }\n",
       "</style>\n",
       "<table border=\"1\" class=\"dataframe\">\n",
       "  <thead>\n",
       "    <tr style=\"text-align: right;\">\n",
       "      <th></th>\n",
       "      <th>no_of_employees</th>\n",
       "      <th>yr_of_estab</th>\n",
       "      <th>prevailing_wage</th>\n",
       "    </tr>\n",
       "  </thead>\n",
       "  <tbody>\n",
       "    <tr>\n",
       "      <th>count</th>\n",
       "      <td>25480.00</td>\n",
       "      <td>25480.00</td>\n",
       "      <td>25480.0000</td>\n",
       "    </tr>\n",
       "    <tr>\n",
       "      <th>min</th>\n",
       "      <td>-26.00</td>\n",
       "      <td>1800.00</td>\n",
       "      <td>2.1367</td>\n",
       "    </tr>\n",
       "    <tr>\n",
       "      <th>mean</th>\n",
       "      <td>5667.04</td>\n",
       "      <td>1979.41</td>\n",
       "      <td>74455.8100</td>\n",
       "    </tr>\n",
       "    <tr>\n",
       "      <th>median</th>\n",
       "      <td>2109.00</td>\n",
       "      <td>1997.00</td>\n",
       "      <td>70308.2100</td>\n",
       "    </tr>\n",
       "    <tr>\n",
       "      <th>25p</th>\n",
       "      <td>1022.00</td>\n",
       "      <td>1976.00</td>\n",
       "      <td>34015.4800</td>\n",
       "    </tr>\n",
       "    <tr>\n",
       "      <th>75p</th>\n",
       "      <td>3504.00</td>\n",
       "      <td>2005.00</td>\n",
       "      <td>107736.0000</td>\n",
       "    </tr>\n",
       "    <tr>\n",
       "      <th>max</th>\n",
       "      <td>602069.00</td>\n",
       "      <td>2016.00</td>\n",
       "      <td>319210.2700</td>\n",
       "    </tr>\n",
       "  </tbody>\n",
       "</table>\n",
       "</div>"
      ],
      "text/plain": [
       "        no_of_employees  yr_of_estab  prevailing_wage\n",
       "count          25480.00     25480.00       25480.0000\n",
       "min              -26.00      1800.00           2.1367\n",
       "mean            5667.04      1979.41       74455.8100\n",
       "median          2109.00      1997.00       70308.2100\n",
       "25p             1022.00      1976.00       34015.4800\n",
       "75p             3504.00      2005.00      107736.0000\n",
       "max           602069.00      2016.00      319210.2700"
      ]
     },
     "execution_count": 20,
     "metadata": {},
     "output_type": "execute_result"
    }
   ],
   "source": [
    "idx=['count','min','mean','median','25p','75p','max']\n",
    "df=pd.DataFrame(index=idx)\n",
    "for i in num_cols:\n",
    "    data=visa_df[i]\n",
    "    count=len(data)\n",
    "    minn=np.min(data)\n",
    "    maxx=np.max(data)\n",
    "    mean=round(np.mean(data),2)\n",
    "    median=round(np.median(data),2)\n",
    "    p_25=round(np.percentile(data,q=25),2)\n",
    "    p_75=round(np.percentile(data,q=75))\n",
    "    df[i]=[count,minn,mean,median,p_25,p_75,maxx]\n",
    "df"
   ]
  },
  {
   "cell_type": "code",
   "execution_count": 21,
   "id": "126b5595-d16f-4e61-87c3-638cec3e455d",
   "metadata": {},
   "outputs": [
    {
     "data": {
      "text/html": [
       "<div>\n",
       "<style scoped>\n",
       "    .dataframe tbody tr th:only-of-type {\n",
       "        vertical-align: middle;\n",
       "    }\n",
       "\n",
       "    .dataframe tbody tr th {\n",
       "        vertical-align: top;\n",
       "    }\n",
       "\n",
       "    .dataframe thead th {\n",
       "        text-align: right;\n",
       "    }\n",
       "</style>\n",
       "<table border=\"1\" class=\"dataframe\">\n",
       "  <thead>\n",
       "    <tr style=\"text-align: right;\">\n",
       "      <th></th>\n",
       "      <th>no_of_employees</th>\n",
       "      <th>yr_of_estab</th>\n",
       "      <th>prevailing_wage</th>\n",
       "    </tr>\n",
       "  </thead>\n",
       "  <tbody>\n",
       "    <tr>\n",
       "      <th>count</th>\n",
       "      <td>25480.000000</td>\n",
       "      <td>25480.000000</td>\n",
       "      <td>25480.000000</td>\n",
       "    </tr>\n",
       "    <tr>\n",
       "      <th>mean</th>\n",
       "      <td>5667.043210</td>\n",
       "      <td>1979.409929</td>\n",
       "      <td>74455.814592</td>\n",
       "    </tr>\n",
       "    <tr>\n",
       "      <th>std</th>\n",
       "      <td>22877.928848</td>\n",
       "      <td>42.366929</td>\n",
       "      <td>52815.942327</td>\n",
       "    </tr>\n",
       "    <tr>\n",
       "      <th>min</th>\n",
       "      <td>-26.000000</td>\n",
       "      <td>1800.000000</td>\n",
       "      <td>2.136700</td>\n",
       "    </tr>\n",
       "    <tr>\n",
       "      <th>25%</th>\n",
       "      <td>1022.000000</td>\n",
       "      <td>1976.000000</td>\n",
       "      <td>34015.480000</td>\n",
       "    </tr>\n",
       "    <tr>\n",
       "      <th>50%</th>\n",
       "      <td>2109.000000</td>\n",
       "      <td>1997.000000</td>\n",
       "      <td>70308.210000</td>\n",
       "    </tr>\n",
       "    <tr>\n",
       "      <th>75%</th>\n",
       "      <td>3504.000000</td>\n",
       "      <td>2005.000000</td>\n",
       "      <td>107735.512500</td>\n",
       "    </tr>\n",
       "    <tr>\n",
       "      <th>max</th>\n",
       "      <td>602069.000000</td>\n",
       "      <td>2016.000000</td>\n",
       "      <td>319210.270000</td>\n",
       "    </tr>\n",
       "  </tbody>\n",
       "</table>\n",
       "</div>"
      ],
      "text/plain": [
       "       no_of_employees   yr_of_estab  prevailing_wage\n",
       "count     25480.000000  25480.000000     25480.000000\n",
       "mean       5667.043210   1979.409929     74455.814592\n",
       "std       22877.928848     42.366929     52815.942327\n",
       "min         -26.000000   1800.000000         2.136700\n",
       "25%        1022.000000   1976.000000     34015.480000\n",
       "50%        2109.000000   1997.000000     70308.210000\n",
       "75%        3504.000000   2005.000000    107735.512500\n",
       "max      602069.000000   2016.000000    319210.270000"
      ]
     },
     "execution_count": 21,
     "metadata": {},
     "output_type": "execute_result"
    }
   ],
   "source": [
    "visa_df.describe()"
   ]
  },
  {
   "cell_type": "code",
   "execution_count": null,
   "id": "812b7976-094c-4dce-830c-1afa0a399bc5",
   "metadata": {},
   "outputs": [],
   "source": []
  }
 ],
 "metadata": {
  "kernelspec": {
   "display_name": "Python 3 (ipykernel)",
   "language": "python",
   "name": "python3"
  },
  "language_info": {
   "codemirror_mode": {
    "name": "ipython",
    "version": 3
   },
   "file_extension": ".py",
   "mimetype": "text/x-python",
   "name": "python",
   "nbconvert_exporter": "python",
   "pygments_lexer": "ipython3",
   "version": "3.12.4"
  }
 },
 "nbformat": 4,
 "nbformat_minor": 5
}
